{
 "cells": [
  {
   "cell_type": "code",
   "execution_count": 1,
   "metadata": {},
   "outputs": [],
   "source": [
    "import pandas as pd\n",
    "import re"
   ]
  },
  {
   "cell_type": "markdown",
   "metadata": {},
   "source": [
    "# Открываем данные"
   ]
  },
  {
   "cell_type": "code",
   "execution_count": 3,
   "metadata": {},
   "outputs": [],
   "source": [
    "path = 'база данных.csv'\n",
    "\n",
    "df = pd.read_csv(path)\n",
    "df = df.fillna(value='')\n"
   ]
  },
  {
   "cell_type": "markdown",
   "metadata": {},
   "source": [
    "# Собираем всю найденную информацию в одном файле"
   ]
  },
  {
   "cell_type": "code",
   "execution_count": null,
   "metadata": {},
   "outputs": [],
   "source": [
    "data = pd.read_csv('bibliogorod.csv')"
   ]
  },
  {
   "cell_type": "code",
   "execution_count": null,
   "metadata": {},
   "outputs": [],
   "source": [
    "def clean_name(name):\n",
    "    name = re.sub('\\(.*?\\)', '', name)\n",
    "    name = re.sub('\\.', '. ', name)\n",
    "    name = re.sub('\\s\\s+', ' ', name)\n",
    "    name = re.sub('\\s$', '', name)\n",
    "    return name\n",
    "\n",
    "def find_number(name):\n",
    "    num = re.findall('№[0-9]+', name)\n",
    "    if num != []: \n",
    "        num = num[0]\n",
    "        return num\n",
    "    return False\n",
    "\n",
    "\n",
    "names, numbers = [], []\n",
    "\n",
    "\n",
    "for name in data['Название']:\n",
    "    \n",
    "    name = clean_name(name)\n",
    "    names.append(name)\n",
    "    \n",
    "    num = find_number(name)\n",
    "    numbers.append(num)\n",
    "\n",
    "\n",
    "data['Number'] = numbers\n",
    "data['Cleaned name'] = names\n",
    "        "
   ]
  },
  {
   "cell_type": "code",
   "execution_count": null,
   "metadata": {},
   "outputs": [],
   "source": [
    "def find_ind(data, col, name):\n",
    "    \n",
    "    res = data.loc[data[col] == name]\n",
    "    if len(res) != 0:\n",
    "        ind = res.index[0]\n",
    "        typ = data['Тип библиотеки'][ind]\n",
    "        cat = data['Электронный каталог'][ind]\n",
    "        return typ, cat\n",
    "    return '', ''\n",
    "\n",
    "\n",
    "types, catalogs = [], []\n",
    "\n",
    "\n",
    "for index, name in enumerate(df['Название']):\n",
    "    \n",
    "    first = df['Местоположение'][index] == 'Москва'\n",
    "    second = df['Адрес'][index].startswith('обл Московская')\n",
    "\n",
    "    if first or second:\n",
    "        \n",
    "        name = clean_name(name)\n",
    "        typ, cat = find_ind(data, 'Cleaned name', name)\n",
    "        \n",
    "        if (typ, cat) == ('', ''):\n",
    "            num = find_number(name)\n",
    "            typ, cat = find_ind(data, 'Number', num)\n",
    "    \n",
    "    else:\n",
    "        typ, cat = '', ''\n",
    "        \n",
    "    types.append(typ)\n",
    "    catalogs.append(cat)\n",
    "\n",
    "\n",
    "print(len(types), len(catalogs))\n",
    "    \n",
    "df['Тип библиотеки'] = types\n",
    "df['Электронный каталог'] = catalogs\n"
   ]
  },
  {
   "cell_type": "code",
   "execution_count": null,
   "metadata": {},
   "outputs": [],
   "source": [
    "paths = {'Изба-читальня': 'izba.txt',\n",
    "       'Дата открытия': 'open_dates.txt',\n",
    "        ('Размер фонда', 'Уверенность в фонде'): 'fond_numbers.txt'}\n",
    "\n",
    "\n",
    "for name in paths:\n",
    "    \n",
    "    path = paths[name]\n",
    "    \n",
    "    with open(path, 'r', encoding='utf-8') as f:\n",
    "        \n",
    "        lines = f.readlines()\n",
    "        lines = [re.sub('\\n', '', i) for i in lines]\n",
    "        \n",
    "        if isinstance(name, str):\n",
    "            df[name] = lines\n",
    "        else:\n",
    "            a, b = [], []\n",
    "            for i in lines:\n",
    "                if ';' in i:\n",
    "                    x = i.split(';')\n",
    "                    fond, conf = x[0], x[1]\n",
    "                else:\n",
    "                    fond, conf = '', ''\n",
    "                    \n",
    "                a.append(fond)\n",
    "                b.append(conf)\n",
    "\n",
    "            df[name[0]] = a\n",
    "            df[name[1]] = b"
   ]
  },
  {
   "cell_type": "code",
   "execution_count": null,
   "metadata": {
    "scrolled": true
   },
   "outputs": [],
   "source": [
    "new_data = df[['Тип библиотеки', 'Электронный каталог', 'Изба-читальня',\n",
    "               'Дата открытия', 'Размер фонда', 'Уверенность в фонде']]\n",
    "\n",
    "new_data.to_csv('new_info.tsv', sep='\\t')"
   ]
  }
 ],
 "metadata": {
  "kernelspec": {
   "display_name": "Python 3",
   "language": "python",
   "name": "python3"
  },
  "language_info": {
   "codemirror_mode": {
    "name": "ipython",
    "version": 3
   },
   "file_extension": ".py",
   "mimetype": "text/x-python",
   "name": "python",
   "nbconvert_exporter": "python",
   "pygments_lexer": "ipython3",
   "version": "3.6.5"
  }
 },
 "nbformat": 4,
 "nbformat_minor": 2
}
