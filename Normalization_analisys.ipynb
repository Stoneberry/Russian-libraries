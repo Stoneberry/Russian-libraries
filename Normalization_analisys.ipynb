{
 "cells": [
  {
   "cell_type": "code",
   "execution_count": 1,
   "metadata": {},
   "outputs": [],
   "source": [
    "import pandas as pd\n",
    "import re\n",
    "import numpy as np"
   ]
  },
  {
   "cell_type": "code",
   "execution_count": 2,
   "metadata": {},
   "outputs": [],
   "source": [
    "import pymorphy2\n",
    "\n",
    "morph = pymorphy2.MorphAnalyzer()"
   ]
  },
  {
   "cell_type": "code",
   "execution_count": 3,
   "metadata": {},
   "outputs": [],
   "source": [
    "# В зоне обслуживания"
   ]
  },
  {
   "cell_type": "code",
   "execution_count": 4,
   "metadata": {},
   "outputs": [],
   "source": [
    "nvis = pd.read_csv(\"number_visits2.txt\", sep=\"\\t\")\n",
    "data = pd.read_csv(\"база данных.csv\", sep=\",\")\n",
    "new = pd.read_csv(\"new_info.tsv\", sep=\"\\t\")"
   ]
  },
  {
   "cell_type": "code",
   "execution_count": 5,
   "metadata": {},
   "outputs": [
    {
     "name": "stderr",
     "output_type": "stream",
     "text": [
      "/Library/Frameworks/Python.framework/Versions/3.6/lib/python3.6/site-packages/ipykernel_launcher.py:1: FutureWarning: currently extract(expand=None) means expand=False (return Index/Series/DataFrame) but in a future version of pandas this will be changed to expand=True (return DataFrame)\n",
      "  \"\"\"Entry point for launching an IPython kernel.\n"
     ]
    }
   ],
   "source": [
    "new['year'] = new['Дата открытия'].str.extract('(\\d{4})')"
   ]
  },
  {
   "cell_type": "code",
   "execution_count": 6,
   "metadata": {},
   "outputs": [],
   "source": [
    "nvis = nvis.fillna('')\n",
    "new = new.fillna('')\n",
    "data = data.fillna('')"
   ]
  },
  {
   "cell_type": "code",
   "execution_count": 7,
   "metadata": {},
   "outputs": [],
   "source": [
    "nvis = nvis[:-1]"
   ]
  },
  {
   "cell_type": "code",
   "execution_count": 8,
   "metadata": {},
   "outputs": [
    {
     "data": {
      "text/plain": [
       "(9546, 4)"
      ]
     },
     "execution_count": 8,
     "metadata": {},
     "output_type": "execute_result"
    }
   ],
   "source": [
    "nvis.shape"
   ]
  },
  {
   "cell_type": "code",
   "execution_count": 9,
   "metadata": {},
   "outputs": [
    {
     "data": {
      "text/plain": [
       "{'', 'в', 'за', 'на', 'около', 'от', 'с', 'свыше'}"
      ]
     },
     "execution_count": 9,
     "metadata": {},
     "output_type": "execute_result"
    }
   ],
   "source": [
    "set(nvis.prep)"
   ]
  },
  {
   "cell_type": "markdown",
   "metadata": {},
   "source": [
    "# Посетителей в месяц"
   ]
  },
  {
   "cell_type": "markdown",
   "metadata": {},
   "source": [
    "### в n году/ за n год"
   ]
  },
  {
   "cell_type": "code",
   "execution_count": 10,
   "metadata": {},
   "outputs": [],
   "source": [
    "a = nvis['n_days'].loc[nvis['prep'].isin([\"в\", \"за\"]) & (nvis['year'] != \"\")].index\n",
    "nvis['n_days'].loc[a] = [365] * len(a)"
   ]
  },
  {
   "cell_type": "markdown",
   "metadata": {},
   "source": [
    "### на n год"
   ]
  },
  {
   "cell_type": "code",
   "execution_count": 11,
   "metadata": {},
   "outputs": [],
   "source": [
    "ind = nvis.loc[(nvis['prep'] == \"на\") & (nvis['year'] != \"\")].index\n",
    "ind = set(ind)"
   ]
  },
  {
   "cell_type": "code",
   "execution_count": 12,
   "metadata": {},
   "outputs": [],
   "source": [
    "ind2 = set(new.loc[new['year'] != ''].index)"
   ]
  },
  {
   "cell_type": "code",
   "execution_count": 13,
   "metadata": {},
   "outputs": [],
   "source": [
    "comb = ind2 & ind"
   ]
  },
  {
   "cell_type": "code",
   "execution_count": 14,
   "metadata": {},
   "outputs": [],
   "source": [
    "a = nvis['year'].loc[comb].apply(int)\n",
    "b = new['year'].loc[comb].apply(int)\n",
    "\n",
    "res = a - b"
   ]
  },
  {
   "cell_type": "code",
   "execution_count": 15,
   "metadata": {},
   "outputs": [],
   "source": [
    "nvis['n_days'].loc[comb] = res * 365"
   ]
  },
  {
   "cell_type": "markdown",
   "metadata": {},
   "source": [
    "### с n года"
   ]
  },
  {
   "cell_type": "code",
   "execution_count": 16,
   "metadata": {},
   "outputs": [],
   "source": [
    "ind = nvis.loc[(nvis['prep'] == \"с\") & (nvis['year'] != \"\")].index\n",
    "res = 2019 - nvis['year'].loc[ind].apply(int)\n",
    "nvis['n_days'].loc[ind] = res * 365"
   ]
  },
  {
   "cell_type": "code",
   "execution_count": 39,
   "metadata": {},
   "outputs": [],
   "source": [
    "a = nvis.loc[(nvis['n_days'].apply(type) != int) & (nvis['n_days'] != \"\")]\n",
    "nvis['n_days'].loc[a.index] = a['n_days'].apply(int)"
   ]
  },
  {
   "cell_type": "code",
   "execution_count": null,
   "metadata": {},
   "outputs": [],
   "source": []
  },
  {
   "cell_type": "code",
   "execution_count": null,
   "metadata": {},
   "outputs": [],
   "source": []
  },
  {
   "cell_type": "code",
   "execution_count": 17,
   "metadata": {},
   "outputs": [],
   "source": [
    "df = nvis[nvis['n_visits'].str.contains(\"_\")]"
   ]
  },
  {
   "cell_type": "code",
   "execution_count": 18,
   "metadata": {},
   "outputs": [],
   "source": [
    "df2 = nvis[nvis['n_visits'].str.contains(\",\")]"
   ]
  },
  {
   "cell_type": "code",
   "execution_count": 19,
   "metadata": {},
   "outputs": [],
   "source": [
    "ind = set(df2.index) - set(df.index)\n",
    "nvis['n_visits'].loc[ind] += '_1000'"
   ]
  },
  {
   "cell_type": "code",
   "execution_count": 20,
   "metadata": {},
   "outputs": [],
   "source": [
    "nvis['n_visits'] = nvis.n_visits.str.replace(' ', '')\n",
    "nvis['n_visits'] = nvis.n_visits.str.replace(',', '.')"
   ]
  },
  {
   "cell_type": "code",
   "execution_count": 21,
   "metadata": {},
   "outputs": [],
   "source": [
    "df = nvis[nvis['n_visits'].str.contains(\"_\")]"
   ]
  },
  {
   "cell_type": "code",
   "execution_count": 22,
   "metadata": {},
   "outputs": [
    {
     "data": {
      "text/plain": [
       "3210    4.5_1000\n",
       "Name: n_visits, dtype: object"
      ]
     },
     "execution_count": 22,
     "metadata": {},
     "output_type": "execute_result"
    }
   ],
   "source": [
    "nvis['n_visits'].loc[ind]"
   ]
  },
  {
   "cell_type": "code",
   "execution_count": 23,
   "metadata": {},
   "outputs": [],
   "source": [
    "str_num = {'полтора':1.5,\n",
    "              'два':2,\n",
    "              'три':3,\n",
    "              'четыре':4,\n",
    "              'пять':5,\n",
    "              'шесть':6,\n",
    "              'семь':7,\n",
    "              'восемь':8,\n",
    "              'девять':9,\n",
    "              'десять':10,\n",
    "             }\n",
    "\n",
    "def str_to_num(x):\n",
    "    \n",
    "    global str_num\n",
    "    \n",
    "    p = morph.parse(x)[0]\n",
    "    return str_num.get(p.normal_form)\n",
    "\n"
   ]
  },
  {
   "cell_type": "code",
   "execution_count": 24,
   "metadata": {},
   "outputs": [
    {
     "name": "stdout",
     "output_type": "stream",
     "text": [
      "3287\n",
      "4394\n",
      "5769\n",
      "6071\n",
      "7333\n",
      "8200\n"
     ]
    }
   ],
   "source": [
    "for index in df.index:\n",
    "    \n",
    "    number, z = df.loc[index].n_visits.split('_')\n",
    "    z = int(z)\n",
    "    \n",
    "    if '.' in number:\n",
    "        n = float(number)\n",
    "        nvis['n_visits'][index] = n * z\n",
    "        \n",
    "    elif number.isalpha():\n",
    "        n = str_to_num(number)\n",
    "        nvis['n_visits'][index] = n * z\n",
    "    \n",
    "    else:\n",
    "        n = int(number)\n",
    "        if n/z > 1: nvis['n_visits'][index] = n\n",
    "        else: nvis['n_visits'][index] = n * z"
   ]
  },
  {
   "cell_type": "code",
   "execution_count": 25,
   "metadata": {},
   "outputs": [],
   "source": [
    "a = np.where((nvis['n_visits'].apply(type) == str) & (nvis['n_visits'] != ''))\n",
    "nvis['n_visits'].loc[a] = nvis['n_visits'].loc[a].apply(int)"
   ]
  },
  {
   "cell_type": "code",
   "execution_count": 26,
   "metadata": {},
   "outputs": [],
   "source": [
    "nvis['nvis/month'] = [0]* nvis.shape[0]"
   ]
  },
  {
   "cell_type": "code",
   "execution_count": 40,
   "metadata": {},
   "outputs": [],
   "source": [
    "a = np.where((nvis['n_visits'].apply(type) == int) & (nvis['n_days'].apply(type) == int))\n",
    "b = nvis.loc[a]\n",
    "\n",
    "nvis['nvis/month'].loc[a] = (b['n_visits'] / b['n_days']) * 30"
   ]
  },
  {
   "cell_type": "markdown",
   "metadata": {},
   "source": [
    "# All together"
   ]
  },
  {
   "cell_type": "code",
   "execution_count": 32,
   "metadata": {},
   "outputs": [],
   "source": [
    "result = pd.concat([nvis, data, new])\n",
    "result = result.fillna('')"
   ]
  },
  {
   "cell_type": "code",
   "execution_count": 33,
   "metadata": {},
   "outputs": [
    {
     "data": {
      "text/plain": [
       "Index(['Hosting', 'ID места ЕИПСК', 'ServiceName', 'Start', 'Timezone',\n",
       "       'Types[]', 'Unnamed: 0', 'n_days', 'n_visits', 'nvis/month', 'prep',\n",
       "       'Адрес', 'Адрес сайта', 'Адрес электронной почты', 'Адрес.1',\n",
       "       'Аудитория', 'ВС', 'ВТ', 'Виртуальный тур', 'Госкаталог',\n",
       "       'Дата открытия', 'Дата последнего обновления записи',\n",
       "       'Дата создания записи', 'Дополнительные изображения', 'ЕИПСК', 'ИНН',\n",
       "       'Идентификатор ЕИПСК', 'Изба-читальня', 'Изображение', 'Категория',\n",
       "       'Категория учреждения', 'Количество посетителей', 'Культура.РФ',\n",
       "       'Местоположение', 'Местоположение.1', 'На карте', 'На карте.1',\n",
       "       'Название', 'Название.1', 'Номер', 'Описание', 'ПН', 'ПТ', 'Подчинение',\n",
       "       'Примечание', 'Примечание.1', 'Принадлежность',\n",
       "       'Профессиональный уровень', 'Размер фонда', 'СБ', 'СР', 'Статистика',\n",
       "       'Тип библиотеки', 'Тип категории', 'Тэги', 'Уверенность в фонде',\n",
       "       'Улица', 'Улица.1', 'ЧТ', 'Часовой пояс', 'Часовой пояс.1',\n",
       "       'Электронный каталог', 'Юридическое лицо', 'Язык'],\n",
       "      dtype='object')"
      ]
     },
     "execution_count": 33,
     "metadata": {},
     "output_type": "execute_result"
    }
   ],
   "source": [
    "result.keys()"
   ]
  },
  {
   "cell_type": "code",
   "execution_count": null,
   "metadata": {},
   "outputs": [],
   "source": []
  },
  {
   "cell_type": "code",
   "execution_count": null,
   "metadata": {},
   "outputs": [],
   "source": []
  }
 ],
 "metadata": {
  "kernelspec": {
   "display_name": "Python 3",
   "language": "python",
   "name": "python3"
  },
  "language_info": {
   "codemirror_mode": {
    "name": "ipython",
    "version": 3
   },
   "file_extension": ".py",
   "mimetype": "text/x-python",
   "name": "python",
   "nbconvert_exporter": "python",
   "pygments_lexer": "ipython3",
   "version": "3.6.5"
  }
 },
 "nbformat": 4,
 "nbformat_minor": 2
}
