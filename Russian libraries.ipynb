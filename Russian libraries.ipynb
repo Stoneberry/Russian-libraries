{
 "cells": [
  {
   "cell_type": "code",
   "execution_count": 11,
   "metadata": {},
   "outputs": [],
   "source": [
    "import pandas as pd\n",
    "import nltk, re, string, collections\n",
    "from nltk.util import ngrams "
   ]
  },
  {
   "cell_type": "code",
   "execution_count": null,
   "metadata": {},
   "outputs": [],
   "source": []
  },
  {
   "cell_type": "code",
   "execution_count": 1,
   "metadata": {},
   "outputs": [],
   "source": [
    "path = 'база данных.csv'"
   ]
  },
  {
   "cell_type": "code",
   "execution_count": 4,
   "metadata": {},
   "outputs": [],
   "source": [
    "data = pd.read_csv(path)"
   ]
  },
  {
   "cell_type": "code",
   "execution_count": 6,
   "metadata": {},
   "outputs": [
    {
     "data": {
      "text/html": [
       "<div>\n",
       "<style scoped>\n",
       "    .dataframe tbody tr th:only-of-type {\n",
       "        vertical-align: middle;\n",
       "    }\n",
       "\n",
       "    .dataframe tbody tr th {\n",
       "        vertical-align: top;\n",
       "    }\n",
       "\n",
       "    .dataframe thead th {\n",
       "        text-align: right;\n",
       "    }\n",
       "</style>\n",
       "<table border=\"1\" class=\"dataframe\">\n",
       "  <thead>\n",
       "    <tr style=\"text-align: right;\">\n",
       "      <th></th>\n",
       "      <th>Название</th>\n",
       "      <th>Местоположение</th>\n",
       "      <th>Часовой пояс</th>\n",
       "      <th>Улица</th>\n",
       "      <th>Примечание</th>\n",
       "      <th>Адрес</th>\n",
       "      <th>На карте</th>\n",
       "      <th>Описание</th>\n",
       "      <th>Адрес сайта</th>\n",
       "      <th>Адрес электронной почты</th>\n",
       "      <th>...</th>\n",
       "      <th>Types[]</th>\n",
       "      <th>Start</th>\n",
       "      <th>ID места ЕИПСК</th>\n",
       "      <th>ServiceName</th>\n",
       "      <th>ЕИПСК</th>\n",
       "      <th>Культура.РФ</th>\n",
       "      <th>Госкаталог</th>\n",
       "      <th>Статистика</th>\n",
       "      <th>Дата создания записи</th>\n",
       "      <th>Дата последнего обновления записи</th>\n",
       "    </tr>\n",
       "  </thead>\n",
       "  <tbody>\n",
       "    <tr>\n",
       "      <th>0</th>\n",
       "      <td>Аксёновская сельская библиотека-филиал № 4</td>\n",
       "      <td>Галичский район</td>\n",
       "      <td>Europe/Moscow</td>\n",
       "      <td>д. Аксёново, 24</td>\n",
       "      <td>NaN</td>\n",
       "      <td>NaN</td>\n",
       "      <td>{\"coordinates\":[42.50301500000001,58.309780999...</td>\n",
       "      <td>&lt;p style=\"text-align:left\"&gt;&lt;span&gt;Библиотека ос...</td>\n",
       "      <td>NaN</td>\n",
       "      <td>biblioteka-gorkogo.galich@yandex.ru</td>\n",
       "      <td>...</td>\n",
       "      <td>NaN</td>\n",
       "      <td>NaN</td>\n",
       "      <td>25431</td>\n",
       "      <td>[{\"serviceName\":\"Культура.рф\"}]</td>\n",
       "      <td>NaN</td>\n",
       "      <td>NaN</td>\n",
       "      <td>NaN</td>\n",
       "      <td>NaN</td>\n",
       "      <td>2016-10-20T07:48:12Z</td>\n",
       "      <td>2016-10-24T14:07:12Z</td>\n",
       "    </tr>\n",
       "    <tr>\n",
       "      <th>1</th>\n",
       "      <td>Мелёшинская сельская библиотека-филиал № 15</td>\n",
       "      <td>Галичский район</td>\n",
       "      <td>Europe/Moscow</td>\n",
       "      <td>д. Мелёшино, ул. Центральная, 16</td>\n",
       "      <td>NaN</td>\n",
       "      <td>NaN</td>\n",
       "      <td>{\"coordinates\":[42.54122,58.438008],\"type\":\"Po...</td>\n",
       "      <td>&lt;p style=\"text-align:left\"&gt;&lt;span&gt; Библиотека о...</td>\n",
       "      <td>NaN</td>\n",
       "      <td>biblioteka-gorkogo.galich@yandex.ru</td>\n",
       "      <td>...</td>\n",
       "      <td>NaN</td>\n",
       "      <td>NaN</td>\n",
       "      <td>25427</td>\n",
       "      <td>[{\"serviceName\":\"Культура.рф\"},{\"serviceName\":...</td>\n",
       "      <td>NaN</td>\n",
       "      <td>NaN</td>\n",
       "      <td>NaN</td>\n",
       "      <td>NaN</td>\n",
       "      <td>2016-10-20T06:05:30Z</td>\n",
       "      <td>2016-10-24T13:57:48Z</td>\n",
       "    </tr>\n",
       "    <tr>\n",
       "      <th>2</th>\n",
       "      <td>Ряжская центральная библиотека</td>\n",
       "      <td>Ряжский район</td>\n",
       "      <td>Europe/Moscow</td>\n",
       "      <td>г. Ряжск, пл. Советская, 11</td>\n",
       "      <td>NaN</td>\n",
       "      <td>NaN</td>\n",
       "      <td>{\"coordinates\":[40.06328100000002,53.708139000...</td>\n",
       "      <td>&lt;p style=\"text-align:left\"&gt;&lt;span&gt;В феврале 186...</td>\n",
       "      <td>http://www.ryajsk-lib.ru</td>\n",
       "      <td>ryagsk-biblioteka2010@yandex.ru</td>\n",
       "      <td>...</td>\n",
       "      <td>NaN</td>\n",
       "      <td>NaN</td>\n",
       "      <td>25410</td>\n",
       "      <td>[{\"serviceName\":\"Культура.рф\"}]</td>\n",
       "      <td>NaN</td>\n",
       "      <td>NaN</td>\n",
       "      <td>NaN</td>\n",
       "      <td>NaN</td>\n",
       "      <td>2016-10-19T12:24:27Z</td>\n",
       "      <td>2016-10-24T13:17:32Z</td>\n",
       "    </tr>\n",
       "    <tr>\n",
       "      <th>3</th>\n",
       "      <td>Левковская сельская библиотека-филиал № 12</td>\n",
       "      <td>Галичский район</td>\n",
       "      <td>Europe/Moscow</td>\n",
       "      <td>д. Левково, ул. Молодёжная, 1</td>\n",
       "      <td>NaN</td>\n",
       "      <td>NaN</td>\n",
       "      <td>{\"coordinates\":[42.187105,58.552082999999996],...</td>\n",
       "      <td>&lt;p style=\"text-align:left\"&gt;&lt;span&gt;Левковская се...</td>\n",
       "      <td>NaN</td>\n",
       "      <td>biblioteka-gorkogo.galich@yandex.ru</td>\n",
       "      <td>...</td>\n",
       "      <td>NaN</td>\n",
       "      <td>NaN</td>\n",
       "      <td>25388</td>\n",
       "      <td>[{\"serviceName\":\"Культура.рф\"}]</td>\n",
       "      <td>NaN</td>\n",
       "      <td>NaN</td>\n",
       "      <td>NaN</td>\n",
       "      <td>NaN</td>\n",
       "      <td>2016-10-19T07:51:11Z</td>\n",
       "      <td>2016-10-24T12:54:32Z</td>\n",
       "    </tr>\n",
       "    <tr>\n",
       "      <th>4</th>\n",
       "      <td>Сасовская центральная библиотека</td>\n",
       "      <td>Сасово</td>\n",
       "      <td>Europe/Moscow</td>\n",
       "      <td>ул. Ленина, 40</td>\n",
       "      <td>NaN</td>\n",
       "      <td>NaN</td>\n",
       "      <td>{\"coordinates\":[41.91434900000001,54.341094999...</td>\n",
       "      <td>&lt;p style=\"text-align:left\"&gt;&lt;span&gt;&lt;span&gt;Сасовск...</td>\n",
       "      <td>NaN</td>\n",
       "      <td>foliant@pochtamt.ru</td>\n",
       "      <td>...</td>\n",
       "      <td>NaN</td>\n",
       "      <td>NaN</td>\n",
       "      <td>25379</td>\n",
       "      <td>[{\"serviceName\":\"Культура.рф\"}]</td>\n",
       "      <td>NaN</td>\n",
       "      <td>NaN</td>\n",
       "      <td>NaN</td>\n",
       "      <td>NaN</td>\n",
       "      <td>2016-10-18T14:47:35Z</td>\n",
       "      <td>2016-10-24T12:44:13Z</td>\n",
       "    </tr>\n",
       "  </tbody>\n",
       "</table>\n",
       "<p>5 rows × 52 columns</p>\n",
       "</div>"
      ],
      "text/plain": [
       "                                      Название   Местоположение  \\\n",
       "0   Аксёновская сельская библиотека-филиал № 4  Галичский район   \n",
       "1  Мелёшинская сельская библиотека-филиал № 15  Галичский район   \n",
       "2               Ряжская центральная библиотека    Ряжский район   \n",
       "3   Левковская сельская библиотека-филиал № 12  Галичский район   \n",
       "4             Сасовская центральная библиотека           Сасово   \n",
       "\n",
       "    Часовой пояс                             Улица Примечание Адрес  \\\n",
       "0  Europe/Moscow                   д. Аксёново, 24        NaN   NaN   \n",
       "1  Europe/Moscow  д. Мелёшино, ул. Центральная, 16        NaN   NaN   \n",
       "2  Europe/Moscow       г. Ряжск, пл. Советская, 11        NaN   NaN   \n",
       "3  Europe/Moscow     д. Левково, ул. Молодёжная, 1        NaN   NaN   \n",
       "4  Europe/Moscow                    ул. Ленина, 40        NaN   NaN   \n",
       "\n",
       "                                            На карте  \\\n",
       "0  {\"coordinates\":[42.50301500000001,58.309780999...   \n",
       "1  {\"coordinates\":[42.54122,58.438008],\"type\":\"Po...   \n",
       "2  {\"coordinates\":[40.06328100000002,53.708139000...   \n",
       "3  {\"coordinates\":[42.187105,58.552082999999996],...   \n",
       "4  {\"coordinates\":[41.91434900000001,54.341094999...   \n",
       "\n",
       "                                            Описание  \\\n",
       "0  <p style=\"text-align:left\"><span>Библиотека ос...   \n",
       "1  <p style=\"text-align:left\"><span> Библиотека о...   \n",
       "2  <p style=\"text-align:left\"><span>В феврале 186...   \n",
       "3  <p style=\"text-align:left\"><span>Левковская се...   \n",
       "4  <p style=\"text-align:left\"><span><span>Сасовск...   \n",
       "\n",
       "                Адрес сайта              Адрес электронной почты  \\\n",
       "0                       NaN  biblioteka-gorkogo.galich@yandex.ru   \n",
       "1                       NaN  biblioteka-gorkogo.galich@yandex.ru   \n",
       "2  http://www.ryajsk-lib.ru      ryagsk-biblioteka2010@yandex.ru   \n",
       "3                       NaN  biblioteka-gorkogo.galich@yandex.ru   \n",
       "4                       NaN                  foliant@pochtamt.ru   \n",
       "\n",
       "                 ...                 Types[] Start ID места ЕИПСК  \\\n",
       "0                ...                     NaN   NaN          25431   \n",
       "1                ...                     NaN   NaN          25427   \n",
       "2                ...                     NaN   NaN          25410   \n",
       "3                ...                     NaN   NaN          25388   \n",
       "4                ...                     NaN   NaN          25379   \n",
       "\n",
       "                                         ServiceName ЕИПСК Культура.РФ  \\\n",
       "0                    [{\"serviceName\":\"Культура.рф\"}]   NaN         NaN   \n",
       "1  [{\"serviceName\":\"Культура.рф\"},{\"serviceName\":...   NaN         NaN   \n",
       "2                    [{\"serviceName\":\"Культура.рф\"}]   NaN         NaN   \n",
       "3                    [{\"serviceName\":\"Культура.рф\"}]   NaN         NaN   \n",
       "4                    [{\"serviceName\":\"Культура.рф\"}]   NaN         NaN   \n",
       "\n",
       "  Госкаталог Статистика  Дата создания записи  \\\n",
       "0        NaN        NaN  2016-10-20T07:48:12Z   \n",
       "1        NaN        NaN  2016-10-20T06:05:30Z   \n",
       "2        NaN        NaN  2016-10-19T12:24:27Z   \n",
       "3        NaN        NaN  2016-10-19T07:51:11Z   \n",
       "4        NaN        NaN  2016-10-18T14:47:35Z   \n",
       "\n",
       "   Дата последнего обновления записи  \n",
       "0               2016-10-24T14:07:12Z  \n",
       "1               2016-10-24T13:57:48Z  \n",
       "2               2016-10-24T13:17:32Z  \n",
       "3               2016-10-24T12:54:32Z  \n",
       "4               2016-10-24T12:44:13Z  \n",
       "\n",
       "[5 rows x 52 columns]"
      ]
     },
     "execution_count": 6,
     "metadata": {},
     "output_type": "execute_result"
    }
   ],
   "source": [
    "data.head()"
   ]
  },
  {
   "cell_type": "code",
   "execution_count": 9,
   "metadata": {},
   "outputs": [
    {
     "data": {
      "text/plain": [
       "Index(['Название', 'Местоположение', 'Часовой пояс', 'Улица', 'Примечание',\n",
       "       'Адрес', 'На карте', 'Описание', 'Адрес сайта',\n",
       "       'Адрес электронной почты', 'Номер', 'Изображение',\n",
       "       'Дополнительные изображения', 'Тип категории', 'Категория',\n",
       "       'Юридическое лицо', 'Местоположение.1', 'Часовой пояс.1', 'Улица.1',\n",
       "       'Примечание.1', 'Адрес.1', 'На карте.1', 'ИНН', 'Принадлежность',\n",
       "       'Подчинение', 'Timezone', 'Название.1', 'Идентификатор ЕИПСК', 'Тэги',\n",
       "       'Hosting', 'ПН', 'ВТ', 'СР', 'ЧТ', 'ПТ', 'СБ', 'ВС',\n",
       "       'Категория учреждения', 'Аудитория', 'Язык', 'Профессиональный уровень',\n",
       "       'Виртуальный тур', 'Types[]', 'Start', 'ID места ЕИПСК', 'ServiceName',\n",
       "       'ЕИПСК', 'Культура.РФ', 'Госкаталог', 'Статистика',\n",
       "       'Дата создания записи', 'Дата последнего обновления записи'],\n",
       "      dtype='object')"
      ]
     },
     "execution_count": 9,
     "metadata": {},
     "output_type": "execute_result"
    }
   ],
   "source": [
    "data.keys()"
   ]
  },
  {
   "cell_type": "markdown",
   "metadata": {},
   "source": [
    "# Описания"
   ]
  },
  {
   "cell_type": "code",
   "execution_count": 8,
   "metadata": {},
   "outputs": [],
   "source": [
    "with open('descriptions.txt', 'w', encoding='utf-8') as f:\n",
    "    for i in data['Описание']:\n",
    "        f.write(i + '\\n')"
   ]
  },
  {
   "cell_type": "code",
   "execution_count": null,
   "metadata": {},
   "outputs": [],
   "source": []
  },
  {
   "cell_type": "markdown",
   "metadata": {},
   "source": [
    "### Bigrams"
   ]
  },
  {
   "cell_type": "code",
   "execution_count": 42,
   "metadata": {},
   "outputs": [],
   "source": [
    "string.punctuation += '–'"
   ]
  },
  {
   "cell_type": "code",
   "execution_count": 103,
   "metadata": {},
   "outputs": [],
   "source": [
    "def text_cleaning(text):\n",
    "    text = re.sub('<.*?>|\\xad','',text)\n",
    "    text = re.sub(\"[\" + string.punctuation + \"]\", \" \", text)\n",
    "    text = re.sub('\\s+', ' ', text).strip()\n",
    "    return text.lower()\n",
    "\n",
    "def word_tok(text):\n",
    "    return text.split()\n",
    "\n",
    "\n",
    "all_descrip = ' '.join(data['Описание'])\n",
    "all_descrip1 = text_cleaning(all_descrip)\n",
    "words_desc = word_tok(all_descrip1)"
   ]
  },
  {
   "cell_type": "code",
   "execution_count": 104,
   "metadata": {},
   "outputs": [
    {
     "data": {
      "text/plain": [
       "'библиотека основана в 1973 году расположена в деревне аксёново дмитриевского сельского поселения галичского муниципального района в зоне обслуживания библиотеки 100 человек читателей по учреждению 91 книжный фонд составляет 3306 экз книг библиотекарем работает поздина олеся олеговна библиотека тесно'"
      ]
     },
     "execution_count": 104,
     "metadata": {},
     "output_type": "execute_result"
    }
   ],
   "source": [
    "all_descrip1[:300]"
   ]
  },
  {
   "cell_type": "code",
   "execution_count": 86,
   "metadata": {},
   "outputs": [
    {
     "data": {
      "text/plain": [
       "['библиотека',\n",
       " 'основана',\n",
       " 'в',\n",
       " '1973',\n",
       " 'году',\n",
       " 'расположена',\n",
       " 'в',\n",
       " 'деревне',\n",
       " 'аксёново',\n",
       " 'дмитриевского']"
      ]
     },
     "execution_count": 86,
     "metadata": {},
     "output_type": "execute_result"
    }
   ],
   "source": [
    "words_desc[:10]"
   ]
  },
  {
   "cell_type": "code",
   "execution_count": 87,
   "metadata": {},
   "outputs": [],
   "source": [
    "def top_ngrams(text, num_n, top, all_=False):\n",
    "    \n",
    "    grams = ngrams(text, num_n)\n",
    "    gram_freq = collections.Counter(grams)\n",
    "    \n",
    "    if all_: return gram_freq\n",
    "    return gram_freq.most_common(top)"
   ]
  },
  {
   "cell_type": "code",
   "execution_count": 88,
   "metadata": {},
   "outputs": [],
   "source": [
    "bigrams = top_ngrams(words_desc, 2, 100)"
   ]
  },
  {
   "cell_type": "code",
   "execution_count": 89,
   "metadata": {},
   "outputs": [
    {
     "data": {
      "text/plain": [
       "[(('в', 'библиотеке'), 4205),\n",
       " (('фонд', 'библиотеки'), 3226),\n",
       " (('книжный', 'фонд'), 2769),\n",
       " (('сельская', 'библиотека'), 2256),\n",
       " (('библиотеки', 'составляет'), 1785),\n",
       " (('детская', 'библиотека'), 1427),\n",
       " (('году', 'в'), 1400),\n",
       " (('настоящее', 'время'), 1345),\n",
       " (('для', 'детей'), 1332),\n",
       " (('библиотека', 'была'), 1223)]"
      ]
     },
     "execution_count": 89,
     "metadata": {},
     "output_type": "execute_result"
    }
   ],
   "source": [
    "bigrams[:10]"
   ]
  },
  {
   "cell_type": "code",
   "execution_count": 90,
   "metadata": {},
   "outputs": [],
   "source": [
    "trigrams = top_ngrams(words_desc, 3, 100)"
   ]
  },
  {
   "cell_type": "code",
   "execution_count": 91,
   "metadata": {},
   "outputs": [
    {
     "data": {
      "text/plain": [
       "[(('фонд', 'библиотеки', 'составляет'), 1531),\n",
       " (('в', 'настоящее', 'время'), 1154),\n",
       " (('книжный', 'фонд', 'библиотеки'), 704),\n",
       " (('книжный', 'фонд', 'составляет'), 629),\n",
       " (('была', 'открыта', 'в'), 627),\n",
       " (('библиотека', 'филиал', '№'), 624),\n",
       " (('на', 'сегодняшний', 'день'), 544),\n",
       " (('фонд', 'библиотеки', 'насчитывает'), 517),\n",
       " (('централизованной', 'библиотечной', 'системы'), 507),\n",
       " (('в', 'библиотеке', 'работает'), 469)]"
      ]
     },
     "execution_count": 91,
     "metadata": {},
     "output_type": "execute_result"
    }
   ],
   "source": [
    "trigrams[:10]"
   ]
  },
  {
   "cell_type": "markdown",
   "metadata": {},
   "source": [
    " ##### Что можно достать?"
   ]
  },
  {
   "cell_type": "markdown",
   "metadata": {},
   "source": [
    "* <b>Дата основания</b> - ('была', 'открыта'), ('библиотека', 'основана'),  \n",
    "* <b>Размер фонда</b> - ('фонд', 'насчитывает'), ('базе', 'библиотеки'), ('насчитывает', 'более'), ('библиотечный', 'фонд'), ('тысяч', 'экземпляров'), ('библиотеки', 'насчитывает'), ('фонд', 'библиотеки'), ('книжный', 'фонд')\n",
    "* <b>Кол-во читателей</b> - ('количество', 'читателей')\n",
    "* <b>Зона обслуживания</b> - ('библиотека', 'обслуживает')\n",
    "* <b>Девиз библиотеки</b> (нужно ли?)\n",
    "* <b>Чем является ?</b> - ('библиотека', 'является')\n",
    "* <b>Что есть в библиотеке</b> - ('в', 'библиотеке', 'работает')\n",
    "* <b>Где находится (возможно, это не просто адрес, а что-то про здание)</b> - ('библиотека', 'находится', 'в')\n",
    "* <b>Какие есть активности</b> - ('клубы', 'по', 'интересам'), ('на', 'базе', 'библиотеки')\n",
    "* <b>Информация о наличии архива</b> - ('централизованная', 'библиотечная', 'система')"
   ]
  },
  {
   "cell_type": "markdown",
   "metadata": {},
   "source": [
    "Примеры: \n",
    "    \n",
    "('фонд', 'библиотеки', 'составляет')\n",
    "('книжный', 'фонд', 'библиотеки')\n",
    "('была', 'открыта', 'в')\n",
    "('книжный', 'фонд', 'составляет')\n",
    "('фонд', 'библиотеки', 'насчитывает')\n",
    "('в', 'библиотеке', 'работает')\n",
    "('библиотека', 'была', 'открыта')\n",
    "('библиотека', 'находится', 'в')\n",
    "('на', 'базе', 'библиотеки')\n",
    "('библиотека', 'основана', 'в')\n",
    "('входит', 'в', 'состав')\n",
    "('библиотека', 'переехала', 'в')\n",
    "('клубы', 'по', 'интересам')\n",
    "('была', 'основана', 'в')\n",
    "('года', 'в', 'библиотеке')\n",
    "('находится', 'в', 'здании')\n",
    "('в', 'библиотеке', 'работают')\n",
    "('централизованная', 'библиотечная', 'система')\n",
    "('экземпляров', 'книг', 'и')\n",
    "('услугами', 'библиотеки', 'пользуются')\n",
    "('библиотека', 'была', 'основана')\n",
    "('фонд', 'составляет', 'более')\n",
    "('при', 'библиотеке', 'работает')\n",
    "('000', 'экземпляров', 'книг')\n",
    "('библиотечный', 'фонд', 'составляет')\n",
    "('централизованная', 'библиотечная', 'система»')\n",
    "('ежегодно', 'библиотека', 'обслуживает')\n",
    "('библиотеки', 'насчитывает', 'более')\n",
    "('тысяч', 'экземпляров', 'книг')\n",
    "('году', 'книжный', 'фонд')\n",
    "('читателями', 'библиотеки', 'являются')\n",
    "('работают', 'клубы', 'по')"
   ]
  },
  {
   "cell_type": "code",
   "execution_count": null,
   "metadata": {},
   "outputs": [],
   "source": []
  },
  {
   "cell_type": "code",
   "execution_count": 105,
   "metadata": {},
   "outputs": [],
   "source": [
    "with open('decript_clean.txt', 'w', encoding='utf-8') as f:\n",
    "    all_descrip2 = re.sub('<.*?>|\\xad', '', all_descrip)\n",
    "    all_descrip2 = re.sub('\\s+', ' ', all_descrip2).strip()\n",
    "    f.write(all_descrip2)"
   ]
  },
  {
   "cell_type": "code",
   "execution_count": null,
   "metadata": {},
   "outputs": [],
   "source": []
  },
  {
   "cell_type": "markdown",
   "metadata": {},
   "source": [
    "## Word2vec для поиска синонимов"
   ]
  },
  {
   "cell_type": "code",
   "execution_count": 32,
   "metadata": {
    "scrolled": true
   },
   "outputs": [],
   "source": [
    "import gensim\n",
    "from gensim.models import Word2Vec, KeyedVectors\n",
    "from nltk.corpus import stopwords\n",
    "import warnings\n",
    "warnings.filterwarnings('ignore')\n",
    "\n",
    "russian_stopwords = set(stopwords.words('russian'))"
   ]
  },
  {
   "cell_type": "code",
   "execution_count": 52,
   "metadata": {},
   "outputs": [],
   "source": [
    "from gensim.test.utils import datapath\n",
    "\n",
    "wv_from_bin = KeyedVectors.load_word2vec_format(datapath(\"182/model.bin\"), binary=True)"
   ]
  },
  {
   "cell_type": "code",
   "execution_count": 63,
   "metadata": {},
   "outputs": [
    {
     "data": {
      "text/plain": [
       "[('мама_NOUN', 1.0),\n",
       " ('бабушка_NOUN', 0.8300854563713074),\n",
       " ('мама_PROPN', 0.8136544227600098),\n",
       " ('мать_NOUN', 0.7809500694274902),\n",
       " ('тетя_NOUN', 0.7670087218284607)]"
      ]
     },
     "execution_count": 63,
     "metadata": {},
     "output_type": "execute_result"
    }
   ],
   "source": [
    "wv_from_bin.similar_by_vector(wv_from_bin.wv['мама_NOUN'], topn=5)"
   ]
  },
  {
   "cell_type": "code",
   "execution_count": 74,
   "metadata": {},
   "outputs": [
    {
     "data": {
      "text/plain": [
       "[('учредить_VERB', 1.0),\n",
       " ('учреждать_VERB', 0.7878089547157288),\n",
       " ('учреждёть_ADJ', 0.6747399568557739),\n",
       " ('учреждать_ADJ', 0.6426123976707458),\n",
       " ('учредить_ADJ', 0.6390299797058105),\n",
       " ('учредить_NOUN', 0.6258695125579834),\n",
       " ('учредить_PROPN', 0.6163011193275452),\n",
       " ('учреждать_PROPN', 0.6056380271911621),\n",
       " ('учреждёть_VERB', 0.568996787071228),\n",
       " ('учреждённый_ADJ', 0.5525091290473938)]"
      ]
     },
     "execution_count": 74,
     "metadata": {},
     "output_type": "execute_result"
    }
   ],
   "source": [
    "wv_from_bin.similar_by_vector(wv_from_bin.wv['учредить_VERB'], topn=10)"
   ]
  },
  {
   "cell_type": "code",
   "execution_count": 71,
   "metadata": {},
   "outputs": [
    {
     "data": {
      "text/plain": [
       "[('основать_VERB', 1.0),\n",
       " ('основывать_VERB', 0.7264178395271301),\n",
       " ('основавший_VERB', 0.6287158727645874),\n",
       " ('основать_ADJ', 0.6052384376525879),\n",
       " ('основывать_ADJ', 0.5743699073791504),\n",
       " ('основатель_NOUN', 0.5615928173065186),\n",
       " ('основатель_PROPN', 0.5217398405075073),\n",
       " ('обосноваться_VERB', 0.5102220773696899),\n",
       " ('учредить_VERB', 0.48151713609695435),\n",
       " ('основательница_NOUN', 0.47178083658218384)]"
      ]
     },
     "execution_count": 71,
     "metadata": {},
     "output_type": "execute_result"
    }
   ],
   "source": [
    "wv_from_bin.similar_by_vector(wv_from_bin.wv['основать_VERB'], topn=10)"
   ]
  },
  {
   "cell_type": "code",
   "execution_count": 75,
   "metadata": {},
   "outputs": [
    {
     "data": {
      "text/plain": [
       "[('открывать_VERB', 1.0),\n",
       " ('открыть_VERB', 0.8137675523757935),\n",
       " ('открываться_VERB', 0.7574870586395264),\n",
       " ('закрывать_VERB', 0.6416383981704712),\n",
       " ('открытый_VERB', 0.6374810934066772),\n",
       " ('раскрывать_VERB', 0.6209543943405151),\n",
       " ('открывать_ADJ', 0.607235312461853),\n",
       " ('открытие_NOUN', 0.6052603125572205),\n",
       " ('приоткрывать_VERB', 0.5909624695777893),\n",
       " ('открыться_VERB', 0.5885521173477173)]"
      ]
     },
     "execution_count": 75,
     "metadata": {},
     "output_type": "execute_result"
    }
   ],
   "source": [
    "wv_from_bin.similar_by_vector(wv_from_bin.wv['открывать_VERB'], topn=10)"
   ]
  },
  {
   "cell_type": "code",
   "execution_count": null,
   "metadata": {},
   "outputs": [],
   "source": []
  }
 ],
 "metadata": {
  "kernelspec": {
   "display_name": "Python 3",
   "language": "python",
   "name": "python3"
  },
  "language_info": {
   "codemirror_mode": {
    "name": "ipython",
    "version": 3
   },
   "file_extension": ".py",
   "mimetype": "text/x-python",
   "name": "python",
   "nbconvert_exporter": "python",
   "pygments_lexer": "ipython3",
   "version": "3.6.5"
  }
 },
 "nbformat": 4,
 "nbformat_minor": 2
}
