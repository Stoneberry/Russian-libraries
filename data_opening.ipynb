{
  "nbformat": 4,
  "nbformat_minor": 0,
  "metadata": {
    "colab": {
      "name": "Untitled2.ipynb",
      "provenance": [],
      "collapsed_sections": []
    },
    "kernelspec": {
      "name": "python3",
      "display_name": "Python 3"
    }
  },
  "cells": [
    {
      "cell_type": "code",
      "metadata": {
        "id": "uWpqt9YH-3eD",
        "colab_type": "code",
        "colab": {}
      },
      "source": [
        "!pip3 install spacy_udpipe\n",
        "!pip3 install wiki_ru_wordnet\n",
        "!pip3 install pymorphy2\n",
        "!pip3 install yargy"
      ],
      "execution_count": 0,
      "outputs": []
    },
    {
      "cell_type": "code",
      "metadata": {
        "id": "ocylJZ_tCORI",
        "colab_type": "code",
        "colab": {}
      },
      "source": [
        "from yargy import Parser, rule, and_, or_, not_\n",
        "from yargy.interpretation import fact, attribute\n",
        "from yargy.predicates import dictionary, gte, lte, gram, custom\n",
        "from yargy.pipelines import morph_pipeline"
      ],
      "execution_count": 0,
      "outputs": []
    },
    {
      "cell_type": "code",
      "metadata": {
        "id": "oxGzQlSn-5_Z",
        "colab_type": "code",
        "colab": {}
      },
      "source": [
        "from wiki_ru_wordnet import WikiWordnet\n",
        "from collections import defaultdict\n",
        "from google.colab import files\n",
        "import spacy_udpipe\n",
        "import ufal.udpipe\n",
        "import pymorphy2\n",
        "import string\n",
        "import re\n",
        "\n",
        "morph = pymorphy2.MorphAnalyzer()\n",
        "wikiwordnet = WikiWordnet()"
      ],
      "execution_count": 0,
      "outputs": []
    },
    {
      "cell_type": "code",
      "metadata": {
        "id": "gEGBAhouByev",
        "colab_type": "code",
        "outputId": "b9ec66c9-183e-4ff4-cdf8-7ad4621a9098",
        "colab": {
          "base_uri": "https://localhost:8080/",
          "height": 34
        }
      },
      "source": [
        "spacy_udpipe.download(\"ru\")\n",
        "nlp = spacy_udpipe.load(\"ru\")"
      ],
      "execution_count": 8,
      "outputs": [
        {
          "output_type": "stream",
          "text": [
            "Successfully downloaded the pretrained UDPipe model for the 'ru' language\n"
          ],
          "name": "stdout"
        }
      ]
    },
    {
      "cell_type": "code",
      "metadata": {
        "id": "ez7jVJjEzmgN",
        "colab_type": "code",
        "colab": {}
      },
      "source": [
        ""
      ],
      "execution_count": 0,
      "outputs": []
    },
    {
      "cell_type": "code",
      "metadata": {
        "id": "tcPmKZ8UzmmG",
        "colab_type": "code",
        "colab": {}
      },
      "source": [
        "from IPython.display import HTML, display\n",
        "import time\n",
        "\n",
        "def progress(value, max=100):\n",
        "    return HTML(\"\"\"\n",
        "        <progress\n",
        "            value='{value}'\n",
        "            max='{max}',\n",
        "            style='width: 100%'\n",
        "        >\n",
        "            {value}\n",
        "        </progress>\n",
        "    \"\"\".format(value=value, max=max))"
      ],
      "execution_count": 0,
      "outputs": []
    },
    {
      "cell_type": "code",
      "metadata": {
        "id": "Ox8lctbDByiE",
        "colab_type": "code",
        "colab": {}
      },
      "source": [
        ""
      ],
      "execution_count": 0,
      "outputs": []
    },
    {
      "cell_type": "code",
      "metadata": {
        "id": "M6RSX3NZ_FQa",
        "colab_type": "code",
        "outputId": "e0843439-fe6c-42f2-c5d4-d278cc19d96e",
        "colab": {
          "resources": {
            "http://localhost:8080/nbextensions/google.colab/files.js": {
              "data": "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",
              "ok": true,
              "headers": [
                [
                  "content-type",
                  "application/javascript"
                ]
              ],
              "status": 200,
              "status_text": ""
            }
          },
          "base_uri": "https://localhost:8080/",
          "height": 71
        }
      },
      "source": [
        "uploaded = files.upload()"
      ],
      "execution_count": 11,
      "outputs": [
        {
          "output_type": "display_data",
          "data": {
            "text/html": [
              "\n",
              "     <input type=\"file\" id=\"files-8ed473dc-2a95-48a8-a9a2-45f089611a0f\" name=\"files[]\" multiple disabled />\n",
              "     <output id=\"result-8ed473dc-2a95-48a8-a9a2-45f089611a0f\">\n",
              "      Upload widget is only available when the cell has been executed in the\n",
              "      current browser session. Please rerun this cell to enable.\n",
              "      </output>\n",
              "      <script src=\"/nbextensions/google.colab/files.js\"></script> "
            ],
            "text/plain": [
              "<IPython.core.display.HTML object>"
            ]
          },
          "metadata": {
            "tags": []
          }
        },
        {
          "output_type": "stream",
          "text": [
            "Saving decript_clean.txt to decript_clean.txt\n"
          ],
          "name": "stdout"
        }
      ]
    },
    {
      "cell_type": "code",
      "metadata": {
        "id": "iRpNzmLS_JLf",
        "colab_type": "code",
        "colab": {}
      },
      "source": [
        "texts = uploaded['decript_clean.txt'].decode('UTF-8')\n",
        "texts = texts.split('\\n')"
      ],
      "execution_count": 0,
      "outputs": []
    },
    {
      "cell_type": "code",
      "metadata": {
        "id": "f8txzK4s_JPD",
        "colab_type": "code",
        "colab": {}
      },
      "source": [
        "opn_dates_log = uploaded['log_open_dates.txt'].decode('UTF-8')\n",
        "opn_dates_log = opn_dates_log.split('\\n')"
      ],
      "execution_count": 0,
      "outputs": []
    },
    {
      "cell_type": "code",
      "metadata": {
        "id": "IiW7AW-HALwS",
        "colab_type": "code",
        "colab": {}
      },
      "source": [
        ""
      ],
      "execution_count": 0,
      "outputs": []
    },
    {
      "cell_type": "markdown",
      "metadata": {
        "id": "aNXxFevrljLG",
        "colab_type": "text"
      },
      "source": [
        "**Алгоритм**"
      ]
    },
    {
      "cell_type": "markdown",
      "metadata": {
        "id": "VutaBI3p5UZ-",
        "colab_type": "text"
      },
      "source": [
        "1. Проходимся по текстам описаний\n",
        "2. Каждый делим на предложения \n",
        "3. Ищем дату\n",
        "4. Если есть --> находим глагол\n",
        "5. Если глагол в словаре --> смотрим на зависимые\n",
        "6. Если в зависимых библиотека - отлично \n",
        "7. Если нет --> ищем с помощью yargy сочетания СУЩ В ИМ + библиотека \n",
        "8. Если сущ в зависимых - отлично \n"
      ]
    },
    {
      "cell_type": "markdown",
      "metadata": {
        "id": "ahhLY1vTAOYZ",
        "colab_type": "text"
      },
      "source": [
        "1.   Дата открытия библиотеки – 1916 год +\n",
        "2.   Дата основания – +\n",
        "3.   Год открытия – 2001. +\n",
        "4.   Образована в 1964 г. +\n",
        "5.   Дата основания: конец 1919 г. – начало 1920 г. +\n",
        "6. берет свое начало -\n",
        "7. Официальная дата рождения областной специальной библиотеки для слепых – 5 сентября 1955 года. +\n",
        "8. Центральная Межпоселенческая библиотека – самая крупная библиотека Сосновского района, дата создания – 1935 год. +\n",
        "\n"
      ]
    },
    {
      "cell_type": "code",
      "metadata": {
        "id": "stJMxrNCAL0n",
        "colab_type": "code",
        "colab": {}
      },
      "source": [
        ""
      ],
      "execution_count": 0,
      "outputs": []
    },
    {
      "cell_type": "code",
      "metadata": {
        "id": "0wypcK0SCAhW",
        "colab_type": "code",
        "colab": {}
      },
      "source": [
        "Date = fact('Date', ['day', 'month', 'year'])\n",
        "\n",
        "MONTHS = {\n",
        "    'январь', 'февраль', 'март',\n",
        "    'апрель', 'мая', 'июнь',\n",
        "    'июль', 'август', 'сентябрь',\n",
        "    'октябрь', 'ноябрь', 'декабрь'}\n",
        "\n",
        "\n",
        "MONTH_NAME = dictionary(MONTHS)\n",
        "DAY = and_(gte(1), lte(31))\n",
        "YEAR = and_(gte(1900), lte(2100))\n",
        "\n",
        "\n",
        "a = rule(\n",
        "    dictionary({'дата', 'год'}),\n",
        "    gram('NPRO').optional(), \n",
        "    dictionary({'основания', 'открытия', 'рождения', 'создания', 'образования'})\n",
        ")\n",
        "\n",
        "\n",
        "b = rule(\n",
        "    gram('ADJF').optional().repeatable(),\n",
        "    dictionary({'библиотеки'}).optional(),\n",
        "    gram('PREP').optional(),\n",
        "    or_(gram('NOUN'), gram('ADJF')).optional()\n",
        ")\n",
        "\n",
        "c = dictionary({'–', ':'})\n",
        "d = dictionary({'конец', 'середина', 'начало'}).optional()\n",
        "\n",
        "\n",
        "DATE1 = rule(\n",
        "    \n",
        "    DAY.interpretation(\n",
        "        Date.day).optional(),\n",
        "    \n",
        "    MONTH_NAME.interpretation(\n",
        "        Date.month).optional(),\n",
        "    \n",
        "    YEAR.interpretation(Date.year)\n",
        "    \n",
        ").interpretation(Date)\n",
        "\n",
        "\n",
        "# Если объединить, получится не очень \n",
        "\n",
        "DATE2 = rule(\n",
        "    \n",
        "    a, b, c, d,\n",
        "    \n",
        "    DAY.interpretation(Date.day).optional(),\n",
        "    \n",
        "    MONTH_NAME.interpretation(\n",
        "        Date.month.normalized()).optional(),\n",
        "    \n",
        "    YEAR.interpretation(Date.year)\n",
        "           \n",
        "    ).interpretation(Date)\n",
        "\n",
        "\n",
        "open_date_parser1 = Parser(DATE1)\n",
        "open_date_parser2 = Parser(DATE2)"
      ],
      "execution_count": 0,
      "outputs": []
    },
    {
      "cell_type": "code",
      "metadata": {
        "id": "GwitqRkfDQeP",
        "colab_type": "code",
        "colab": {}
      },
      "source": [
        ""
      ],
      "execution_count": 0,
      "outputs": []
    },
    {
      "cell_type": "code",
      "metadata": {
        "id": "E2NmW7eUDQlB",
        "colab_type": "code",
        "colab": {}
      },
      "source": [
        "open_date_verb = [\n",
        "                  'возникла', 'возобновилась', 'доступна',\n",
        "                  'началась', 'образована',  'организованна',\n",
        "                  'организована', 'основана', 'открылась', \n",
        "                  'открыта', 'появилась', 'учреждена',\n",
        "                  'создана', \n",
        "]"
      ],
      "execution_count": 0,
      "outputs": []
    },
    {
      "cell_type": "code",
      "metadata": {
        "id": "00i3u4EbICtF",
        "colab_type": "code",
        "colab": {}
      },
      "source": [
        "texts = ['Левковская сельская библиотека основана в 1968 году.', \n",
        "         'Петровская сельская библиотека была открыта в 1931 году.', \n",
        "         'Центральная детская библиотека была открыта 1 июля 1950 года.',\n",
        "         'В 1974 году открылась библиотека.', \n",
        "         'Углевская сельская библиотека основана в 1897 году.', \n",
        "         'Заведующая библиотекой – Людмила Олеговна Веткина.26 марта 1966 года открыта библиотека-филиал № 10.',\n",
        "         'Библиотека работает с 1935 года.']"
      ],
      "execution_count": 0,
      "outputs": []
    },
    {
      "cell_type": "code",
      "metadata": {
        "id": "yKpwn4ITAdBS",
        "colab_type": "code",
        "colab": {}
      },
      "source": [
        ""
      ],
      "execution_count": 0,
      "outputs": []
    },
    {
      "cell_type": "code",
      "metadata": {
        "id": "qYFwufHpxguA",
        "colab_type": "code",
        "colab": {}
      },
      "source": [
        "length = len(texts)"
      ],
      "execution_count": 0,
      "outputs": []
    },
    {
      "cell_type": "code",
      "metadata": {
        "id": "0kYpcuWYAL4C",
        "colab_type": "code",
        "outputId": "eb2c4087-deb2-4de6-99fa-7ca7d357af65",
        "colab": {
          "base_uri": "https://localhost:8080/",
          "height": 34
        }
      },
      "source": [
        "open_date = []\n",
        "log = []\n",
        "count = 0\n",
        "\n",
        "out = display(progress(0, length), display_id=True)\n",
        "\n",
        "for index, text in enumerate(texts):\n",
        "  doc = nlp(text)\n",
        "\n",
        "  ans = ''\n",
        "\n",
        "  for sent in doc.sents:\n",
        "\n",
        "    match = list(open_date_parser1.findall(sent.text))\n",
        "      \n",
        "    if match != [] and ans == '':\n",
        "      mat = list(open_date_parser2.findall(sent.text))\n",
        "      \n",
        "      # берем первое вхождение, потому что дата открытия скорее будет в начале текста\n",
        "\n",
        "      if mat != []:\n",
        "        ans = ' '.join([i for i in mat[0].fact if i is not None])\n",
        "        count += 1\n",
        "      elif str(sent.root).lower() in open_date_verb:\n",
        "        ans = ' '.join([i for i in match[0].fact if i is not None])\n",
        "        count += 1\n",
        "   \n",
        "  if ans == '':\n",
        "    log.append(index)\n",
        "\n",
        "  open_date.append(ans)\n",
        "  out.update(progress(index, length))\n",
        "  \n",
        "      "
      ],
      "execution_count": 0,
      "outputs": [
        {
          "output_type": "display_data",
          "data": {
            "text/html": [
              "\n",
              "        <progress\n",
              "            value='9546'\n",
              "            max='9547',\n",
              "            style='width: 100%'\n",
              "        >\n",
              "            9546\n",
              "        </progress>\n",
              "    "
            ],
            "text/plain": [
              "<IPython.core.display.HTML object>"
            ]
          },
          "metadata": {
            "tags": []
          }
        }
      ]
    },
    {
      "cell_type": "code",
      "metadata": {
        "id": "PIS9shm9lVRl",
        "colab_type": "code",
        "outputId": "6430efeb-63b5-4577-c9bb-2726fb456d3a",
        "colab": {
          "base_uri": "https://localhost:8080/",
          "height": 34
        }
      },
      "source": [
        "count"
      ],
      "execution_count": 0,
      "outputs": [
        {
          "output_type": "execute_result",
          "data": {
            "text/plain": [
              "3801"
            ]
          },
          "metadata": {
            "tags": []
          },
          "execution_count": 22
        }
      ]
    },
    {
      "cell_type": "code",
      "metadata": {
        "id": "RZuVsFD3Crig",
        "colab_type": "code",
        "colab": {}
      },
      "source": [
        "Часто встречается \"изба-читальня\""
      ],
      "execution_count": 0,
      "outputs": []
    },
    {
      "cell_type": "code",
      "metadata": {
        "id": "QioKZ8hspqN9",
        "colab_type": "code",
        "colab": {}
      },
      "source": [
        ""
      ],
      "execution_count": 0,
      "outputs": []
    },
    {
      "cell_type": "code",
      "metadata": {
        "id": "vUXywRZzpqcy",
        "colab_type": "code",
        "colab": {}
      },
      "source": [
        "with open('open_dates.txt', 'w', encoding='utf-8') as f:\n",
        "  for i in open_date:\n",
        "    f.write(i + '\\n')"
      ],
      "execution_count": 0,
      "outputs": []
    },
    {
      "cell_type": "code",
      "metadata": {
        "id": "wuWDyDmOsfu4",
        "colab_type": "code",
        "colab": {}
      },
      "source": [
        "files.download('submission111111.csv')"
      ],
      "execution_count": 0,
      "outputs": []
    },
    {
      "cell_type": "code",
      "metadata": {
        "id": "pVQsGdBWpcz3",
        "colab_type": "code",
        "colab": {}
      },
      "source": [
        "files.download('open_dates.txt') "
      ],
      "execution_count": 0,
      "outputs": []
    },
    {
      "cell_type": "code",
      "metadata": {
        "id": "TnHeBxs6sAM6",
        "colab_type": "code",
        "colab": {}
      },
      "source": [
        "with open('log_open_dates.txt', 'w', encoding='utf-8') as f:\n",
        "  for i in log:\n",
        "    f.write(str(i) + '\\n')\n",
        "\n",
        "files.download('log_open_dates.txt') "
      ],
      "execution_count": 0,
      "outputs": []
    },
    {
      "cell_type": "code",
      "metadata": {
        "id": "fSclCXit52o2",
        "colab_type": "code",
        "colab": {}
      },
      "source": [
        ""
      ],
      "execution_count": 0,
      "outputs": []
    },
    {
      "cell_type": "code",
      "metadata": {
        "id": "ER-91Cagu0o7",
        "colab_type": "code",
        "colab": {}
      },
      "source": [
        ""
      ],
      "execution_count": 0,
      "outputs": []
    },
    {
      "cell_type": "code",
      "metadata": {
        "id": "ER-gOpUAu0td",
        "colab_type": "code",
        "colab": {}
      },
      "source": [
        ""
      ],
      "execution_count": 0,
      "outputs": []
    },
    {
      "cell_type": "markdown",
      "metadata": {
        "id": "Ia6amBTZwdui",
        "colab_type": "text"
      },
      "source": [
        "###  Брать начало"
      ]
    },
    {
      "cell_type": "markdown",
      "metadata": {
        "id": "uQhcnHjSwpBW",
        "colab_type": "text"
      },
      "source": [
        "\n",
        "\n",
        "*   Библиотека села Чувичи берет свое начало от избы-читальни, основанной в 1932 году в школе.\n",
        "*  Ее «биография» берет свое начало в 1952 году\n",
        "*  Сасовская центральная библиотека берет свое начало с 1919 года\n",
        "*  История библиотеки берет свое начало с 1918 года.\n",
        "*  История библиотеки «Книгочей» берет свое начало в 40-х годах ХХ века\n",
        "* История Янаульской центральной районной библиотеки берет свое начало в далеком 1934 году.\n",
        "* История создания библиотеки берет свое начало со второй половины XX века.\n"
      ]
    },
    {
      "cell_type": "markdown",
      "metadata": {
        "id": "XUMjAfQX2JwZ",
        "colab_type": "text"
      },
      "source": [
        "\n",
        "\n",
        "*   ХІХ–ХХ веков\n",
        "*   20-х годах 20 века\n",
        "*  в первой половине XX века\n",
        "*  в 20-е годы прошлого века\n",
        "* В начале XX века\n",
        "\n"
      ]
    },
    {
      "cell_type": "code",
      "metadata": {
        "id": "l17B83DLu0x0",
        "colab_type": "code",
        "colab": {}
      },
      "source": [
        "Date = fact('Date', \n",
        "            ['decade', 'half', 'part', 'time', 'century'])\n",
        "\n",
        "Date = fact('Date', \n",
        "            ['decade'])\n",
        "\n",
        "HALF = dictionary({'первый', 'второй'})\n",
        "PART1 = dictionary({'начало', 'середина', 'конец', 'половина'})\n",
        "TIME = dictionary({'прошлый', 'позапрошлый'})\n",
        "CENTURY = dictionary({'XX', 'XIX'})\n",
        "DECADE = and_(gte(10), lte(90))\n",
        "\n",
        "\n",
        "\n",
        "DATE1 = rule(\n",
        "    \n",
        "    DECADE.interpretation(\n",
        "        Date.decade),\n",
        "\n",
        ").interpretation(Date)\n",
        "\n",
        "open_date_parser1 = Parser(DATE1)"
      ],
      "execution_count": 0,
      "outputs": []
    },
    {
      "cell_type": "code",
      "metadata": {
        "id": "8HEs8ggNu04B",
        "colab_type": "code",
        "colab": {}
      },
      "source": [
        "txt = ['20-х годах 20 века', 'в 20-е годы прошлого века', 'В начале XX века', \n",
        "       'в 20-е годы прошлого века', 'в первой половине XX века', 'ХІХ–ХХ веков']\n",
        "\n",
        "for i in txt:\n",
        "  match = open_date_parser1.findall(i)\n",
        "\n",
        "  for l in match:\n",
        "    print(l.fact)"
      ],
      "execution_count": 0,
      "outputs": []
    },
    {
      "cell_type": "code",
      "metadata": {
        "id": "mlhc9AmowAvc",
        "colab_type": "code",
        "colab": {}
      },
      "source": [
        "from yargy.tokenizer import MorphTokenizer"
      ],
      "execution_count": 0,
      "outputs": []
    },
    {
      "cell_type": "code",
      "metadata": {
        "id": "DdtpnjPIwAy6",
        "colab_type": "code",
        "colab": {}
      },
      "source": [
        "tokenizer = MorphTokenizer()"
      ],
      "execution_count": 0,
      "outputs": []
    },
    {
      "cell_type": "code",
      "metadata": {
        "id": "ZCtHamQjCRfF",
        "colab_type": "code",
        "outputId": "fd90803c-a402-4780-a321-d8038b2c3e40",
        "colab": {
          "base_uri": "https://localhost:8080/",
          "height": 139
        }
      },
      "source": [
        "for i in tokenizer('20-х годах 20 века'):\n",
        "  print(i)"
      ],
      "execution_count": 0,
      "outputs": [
        {
          "output_type": "stream",
          "text": [
            "Token('20', [0, 2), 'INT')\n",
            "Token('-', [2, 3), 'PUNCT')\n",
            "MorphToken('х', [3, 4), 'RU', [Form('х', Grams(UNKN))])\n",
            "MorphToken('годах', [5, 10), 'RU', [Form('год', Grams(NOUN,inan,loct,masc,plur))])\n",
            "Token('20', [11, 13), 'INT')\n",
            "MorphToken('века', [14, 18), 'RU', [Form('век', Grams(NOUN,gent,inan,masc,sing)), Form('веко', Grams(NOUN,gent,inan,neut,sing)), Form('век', Grams(NOUN,inan,masc,nomn,plur)), Form('век', Grams(NOUN,accs,inan,masc,plur))])\n"
          ],
          "name": "stdout"
        }
      ]
    },
    {
      "cell_type": "code",
      "metadata": {
        "id": "G8vP6r6-CTti",
        "colab_type": "code",
        "colab": {}
      },
      "source": [
        ""
      ],
      "execution_count": 0,
      "outputs": []
    },
    {
      "cell_type": "markdown",
      "metadata": {
        "id": "8O7L3ydgCUI6",
        "colab_type": "text"
      },
      "source": [
        "**ДОДЕЛАТЬ**"
      ]
    },
    {
      "cell_type": "markdown",
      "metadata": {
        "id": "GId8hSEiu1-T",
        "colab_type": "text"
      },
      "source": [
        "## **Избы-читальни и Библиорум**"
      ]
    },
    {
      "cell_type": "markdown",
      "metadata": {
        "id": "TNqKGBmMu8qG",
        "colab_type": "text"
      },
      "source": [
        "библиоroom - это пространство альтернативного времяпрепровождения для активных и креативных молодых людей, предпочитающих живое общение. Учение - свет. Буква - это место, где всегда светло!\n",
        "\n",
        "Чем же Вы можете заняться в нашем антикафе… Да чем пожелаете! А мы лишь предлагаем варианты:\n",
        "- Поиграть в настольные игры\n",
        "- Посидеть в интернете - WiFi у нас бесплатный!\n",
        "- Познакомиться с новыми интересными людьми;\n",
        "- Посмотреть интересный фильм;\n",
        "- Почитать умные книжки и обсудить их за чашечкой чая/кофе:)\n",
        "Все услуги предоставляются бесплатно."
      ]
    },
    {
      "cell_type": "markdown",
      "metadata": {
        "id": "XhxamjV3vpbs",
        "colab_type": "text"
      },
      "source": [
        "* изба-читальня\n",
        "* библиоroom\n",
        "* библиорум\n",
        "* библиотеки-читальни"
      ]
    },
    {
      "cell_type": "markdown",
      "metadata": {
        "id": "CIoaQlhQ54-v",
        "colab_type": "text"
      },
      "source": [
        "Два случая:\n",
        "\n",
        "\n",
        "*   Изба-читальня была в городе, библиотека появилась независимо\n",
        "*   Библиотека появилась на основе избы-читальни\n",
        "\n"
      ]
    },
    {
      "cell_type": "markdown",
      "metadata": {
        "id": "c2F5ttzeCCO4",
        "colab_type": "text"
      },
      "source": [
        "**Test**"
      ]
    },
    {
      "cell_type": "code",
      "metadata": {
        "id": "nUNIhrQSu01u",
        "colab_type": "code",
        "colab": {}
      },
      "source": [
        "RULE = morph_pipeline([\n",
        "    'изба-читальня', \n",
        "    'библиотека-читальня',\n",
        "    'библиорум', \n",
        "    'библиоroom',\n",
        "])\n"
      ],
      "execution_count": 0,
      "outputs": []
    },
    {
      "cell_type": "code",
      "metadata": {
        "id": "K9335oEWZ1TC",
        "colab_type": "code",
        "colab": {
          "base_uri": "https://localhost:8080/",
          "height": 238
        },
        "outputId": "c1ee36d8-1c19-4bdf-b221-52005b7b3167"
      },
      "source": [
        "txt = ['Шаймуратовская сельская библиотека основана в 1953 году (изба-читальня). Мама папа', \n",
        "       'Изба-читальня находилась в здании сельского совета. ', \n",
        "       'В 1905 году на общественных началах была открыта библиотека-читальня.', \n",
        "       'Библиотека основана в 1940 году как изба-читальня.',\n",
        "       'Библиотека основана в 1940 году как избу-читальню. Изба-читальня.',\n",
        "       'Мама папа. Библиотека основана в 1940 году как библиорум.']\n",
        "\n",
        "parser = Parser(RULE)\n",
        "\n",
        "for text in txt:\n",
        "\n",
        "  for match in parser.findall(text):\n",
        "    print([_.value for _ in match.tokens])\n",
        "\n",
        "  print()"
      ],
      "execution_count": 39,
      "outputs": [
        {
          "output_type": "stream",
          "text": [
            "['изба', '-', 'читальня']\n",
            "\n",
            "['Изба', '-', 'читальня']\n",
            "\n",
            "['библиотека', '-', 'читальня']\n",
            "\n",
            "['изба', '-', 'читальня']\n",
            "\n",
            "['избу', '-', 'читальню']\n",
            "['Изба', '-', 'читальня']\n",
            "\n",
            "['библиорум']\n",
            "\n"
          ],
          "name": "stdout"
        }
      ]
    },
    {
      "cell_type": "markdown",
      "metadata": {
        "id": "CNRuhWZdCISi",
        "colab_type": "text"
      },
      "source": [
        "**Search**"
      ]
    },
    {
      "cell_type": "code",
      "metadata": {
        "id": "GQBh39-5aWjA",
        "colab_type": "code",
        "colab": {}
      },
      "source": [
        "\n",
        "IZBA = rule(\n",
        "    rule(dictionary('как')).optional(),\n",
        "    rule(\n",
        "   morph_pipeline([\n",
        "    'изба-читальня', \n",
        "    'библиотека-читальня',\n",
        "    'библиорум', \n",
        "    'библиоroom',\n",
        "])))\n",
        "\n",
        "izba_parser = Parser(IZBA)"
      ],
      "execution_count": 0,
      "outputs": []
    },
    {
      "cell_type": "markdown",
      "metadata": {
        "id": "BFQo19LjBFhW",
        "colab_type": "text"
      },
      "source": [
        "Система разметки: \n",
        "\n",
        "\n",
        "*   1 - в тексте встретилось \"как изба-читальня\"\n",
        "*   0 - в тексте встретилось \"изба-читальня\"\n",
        "*   \"\" - ничего не встретилось\n",
        "\n",
        "\n"
      ]
    },
    {
      "cell_type": "code",
      "metadata": {
        "id": "pnQLepwykolW",
        "colab_type": "code",
        "colab": {
          "base_uri": "https://localhost:8080/",
          "height": 34
        },
        "outputId": "89156107-a27e-4106-b62e-688ec312c213"
      },
      "source": [
        "izba = []\n",
        "out = display(progress(0, length), display_id=True)\n",
        "\n",
        "for index, text in enumerate(texts):\n",
        "\n",
        "  ans = list(izba_parser.findall(text))\n",
        "\n",
        "  if ans:\n",
        "    toks = [_.value for _ in ans[0].tokens]\n",
        "    if toks[0] == 'как': izba.append(1)\n",
        "    else: izba.append(0)\n",
        "  else: izba.append('')\n",
        "\n",
        "  out.update(progress(index, length))"
      ],
      "execution_count": 41,
      "outputs": [
        {
          "output_type": "display_data",
          "data": {
            "text/html": [
              "\n",
              "        <progress\n",
              "            value='9546'\n",
              "            max='9547',\n",
              "            style='width: 100%'\n",
              "        >\n",
              "            9546\n",
              "        </progress>\n",
              "    "
            ],
            "text/plain": [
              "<IPython.core.display.HTML object>"
            ]
          },
          "metadata": {
            "tags": []
          }
        }
      ]
    },
    {
      "cell_type": "code",
      "metadata": {
        "id": "5WHZnwTHB73W",
        "colab_type": "code",
        "colab": {}
      },
      "source": [
        ""
      ],
      "execution_count": 0,
      "outputs": []
    },
    {
      "cell_type": "code",
      "metadata": {
        "colab_type": "code",
        "id": "uOCgxXxaCdtE",
        "colab": {}
      },
      "source": [
        "with open('izba.txt', 'w', encoding='utf-8') as f:\n",
        "  for i in izba:\n",
        "    f.write(str(i) + '\\n')"
      ],
      "execution_count": 0,
      "outputs": []
    },
    {
      "cell_type": "code",
      "metadata": {
        "colab_type": "code",
        "id": "NtcH7gP0CdtI",
        "colab": {}
      },
      "source": [
        "files.download('submission111111.csv')"
      ],
      "execution_count": 0,
      "outputs": []
    },
    {
      "cell_type": "code",
      "metadata": {
        "colab_type": "code",
        "id": "9xeuUJzmCdtL",
        "colab": {}
      },
      "source": [
        "files.download('izba.txt') "
      ],
      "execution_count": 0,
      "outputs": []
    },
    {
      "cell_type": "code",
      "metadata": {
        "id": "tWSiekiUD6pz",
        "colab_type": "code",
        "colab": {}
      },
      "source": [
        ""
      ],
      "execution_count": 0,
      "outputs": []
    }
  ]
}