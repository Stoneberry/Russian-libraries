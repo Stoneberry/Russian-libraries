{
 "cells": [
  {
   "cell_type": "code",
   "execution_count": 161,
   "metadata": {},
   "outputs": [],
   "source": [
    "import requests\n",
    "import re\n",
    "import pandas as pd\n",
    "from bs4 import BeautifulSoup"
   ]
  },
  {
   "cell_type": "code",
   "execution_count": 121,
   "metadata": {},
   "outputs": [],
   "source": [
    "import time\n",
    "from tqdm import tqdm_notebook"
   ]
  },
  {
   "cell_type": "code",
   "execution_count": 142,
   "metadata": {},
   "outputs": [],
   "source": [
    "def get_soup(url):\n",
    "    req = requests.get(url)\n",
    "    if req.status_code == 200:\n",
    "        html = req.text\n",
    "        html = re.sub('<!-- -->', '', html)\n",
    "        soup = BeautifulSoup(html, 'lxml')\n",
    "        return soup\n",
    "    return None"
   ]
  },
  {
   "cell_type": "markdown",
   "metadata": {},
   "source": [
    "Поля:\n",
    "\n",
    "* Услуги и курсы\n",
    "* Тип библиотеки\n",
    "* Сайт\n",
    "* Электронный каталог"
   ]
  },
  {
   "cell_type": "markdown",
   "metadata": {},
   "source": [
    "### Тренировка на одной из страниц"
   ]
  },
  {
   "cell_type": "code",
   "execution_count": 143,
   "metadata": {},
   "outputs": [],
   "source": [
    "soup = get_soup('http://www.bibliogorod.ru/libraries/1')"
   ]
  },
  {
   "cell_type": "code",
   "execution_count": 134,
   "metadata": {},
   "outputs": [
    {
     "data": {
      "text/plain": [
       "'Библиотека им. Н. А. Некрасова'"
      ]
     },
     "execution_count": 134,
     "metadata": {},
     "output_type": "execute_result"
    }
   ],
   "source": [
    "clean(soup.find('div', class_=\"name\").text)"
   ]
  },
  {
   "cell_type": "code",
   "execution_count": 149,
   "metadata": {},
   "outputs": [],
   "source": [
    "def clean(line):\n",
    "    line = re.sub('^ ?-? | $|\\n|\\r|\\xa0', '', line)\n",
    "    return line\n",
    "\n",
    "\n",
    "def parse_libr(soup):\n",
    "    \n",
    "    name = clean(soup.find('div', class_=\"name\").text)\n",
    "    cls_names = [\"border\", \"information_item\"]\n",
    "    d = {}\n",
    "    \n",
    "    for index, item in enumerate(cls_names):\n",
    "        \n",
    "        sp = soup.find_all('div', class_=item)\n",
    "        \n",
    "        for line in sp:\n",
    "            \n",
    "            inf = list(line.children)\n",
    "           \n",
    "            if len(inf) > 1:\n",
    "                cat = clean(inf[0].text)\n",
    "            \n",
    "                if index == 0:\n",
    "                    d[cat] = clean(inf[1].text)\n",
    "    \n",
    "                else:\n",
    "                    f = line.find_all('div', class_='list')\n",
    "                    d[cat] = [clean(l.text) for l in f]\n",
    "   \n",
    "    return name, d"
   ]
  },
  {
   "cell_type": "markdown",
   "metadata": {},
   "source": [
    "### Парсим все"
   ]
  },
  {
   "cell_type": "code",
   "execution_count": 150,
   "metadata": {},
   "outputs": [
    {
     "data": {
      "application/vnd.jupyter.widget-view+json": {
       "model_id": "ed947d0057ac4d17aa606a0dbe9b86ce",
       "version_major": 2,
       "version_minor": 0
      },
      "text/plain": [
       "HBox(children=(IntProgress(value=0, description='link', max=459), HTML(value='')))"
      ]
     },
     "metadata": {},
     "output_type": "display_data"
    },
    {
     "name": "stdout",
     "output_type": "stream",
     "text": [
      "\n",
      "http://www.bibliogorod.ru/libraries/38\n",
      "http://www.bibliogorod.ru/libraries/111\n",
      "http://www.bibliogorod.ru/libraries/132\n",
      "http://www.bibliogorod.ru/libraries/186\n",
      "http://www.bibliogorod.ru/libraries/274\n",
      "http://www.bibliogorod.ru/libraries/289\n",
      "http://www.bibliogorod.ru/libraries/290\n",
      "http://www.bibliogorod.ru/libraries/291\n",
      "http://www.bibliogorod.ru/libraries/292\n",
      "http://www.bibliogorod.ru/libraries/306\n",
      "http://www.bibliogorod.ru/libraries/307\n",
      "http://www.bibliogorod.ru/libraries/399\n",
      "http://www.bibliogorod.ru/libraries/425\n",
      "http://www.bibliogorod.ru/libraries/459\n",
      "\n"
     ]
    }
   ],
   "source": [
    "link = 'http://www.bibliogorod.ru/libraries/'\n",
    "all_libr_info = {}\n",
    "\n",
    "t_par = tqdm_notebook([i for i in range(1, 460)], desc='link', leave=True)\n",
    "\n",
    "for i in t_par:\n",
    "    \n",
    "    try:\n",
    "        soup = get_soup(link + str(i))\n",
    "        name, info = parse_libr(soup)\n",
    "        all_libr_info[name] = info\n",
    "    except:\n",
    "        print(link + str(i))\n",
    "\n",
    "    time.sleep(2)"
   ]
  },
  {
   "cell_type": "code",
   "execution_count": 159,
   "metadata": {},
   "outputs": [],
   "source": [
    "# 'Электронный каталог'\n",
    "# 'Тип библиотеки'\n",
    "\n",
    "d = {'Название':[], 'Электронный каталог':[], 'Тип библиотеки':[]}\n",
    "\n",
    "for libr in all_libr_info:\n",
    "    \n",
    "    ctlg = all_libr_info[libr].get('Электронный каталог')\n",
    "    tp = all_libr_info[libr].get('Тип библиотеки')\n",
    "    \n",
    "    d['Название'].append(libr)\n",
    "    d['Электронный каталог'].append(ctlg)\n",
    "    d['Тип библиотеки'].append(tp)\n",
    "    "
   ]
  },
  {
   "cell_type": "code",
   "execution_count": 163,
   "metadata": {},
   "outputs": [
    {
     "data": {
      "text/html": [
       "<div>\n",
       "<style scoped>\n",
       "    .dataframe tbody tr th:only-of-type {\n",
       "        vertical-align: middle;\n",
       "    }\n",
       "\n",
       "    .dataframe tbody tr th {\n",
       "        vertical-align: top;\n",
       "    }\n",
       "\n",
       "    .dataframe thead th {\n",
       "        text-align: right;\n",
       "    }\n",
       "</style>\n",
       "<table border=\"1\" class=\"dataframe\">\n",
       "  <thead>\n",
       "    <tr style=\"text-align: right;\">\n",
       "      <th></th>\n",
       "      <th>Название</th>\n",
       "      <th>Тип библиотеки</th>\n",
       "      <th>Электронный каталог</th>\n",
       "    </tr>\n",
       "  </thead>\n",
       "  <tbody>\n",
       "    <tr>\n",
       "      <th>0</th>\n",
       "      <td>Библиотека им. Н. А. Некрасова</td>\n",
       "      <td>универсальная</td>\n",
       "      <td>opac.nekrasovka.ru/vmk/</td>\n",
       "    </tr>\n",
       "    <tr>\n",
       "      <th>1</th>\n",
       "      <td>Пункт книговыдачи Библиотеки им. Н. А. Некрасо...</td>\n",
       "      <td>универсальная</td>\n",
       "      <td>opac.nekrasovka.ru/vmk/</td>\n",
       "    </tr>\n",
       "    <tr>\n",
       "      <th>2</th>\n",
       "      <td>Пункт книговыдачи Библиотеки им. Н. А. Некрасо...</td>\n",
       "      <td>универсальная</td>\n",
       "      <td>opac.nekrasovka.ru/vmk/</td>\n",
       "    </tr>\n",
       "    <tr>\n",
       "      <th>3</th>\n",
       "      <td>Центральная детская библиотека №78 им. И.А. Кр...</td>\n",
       "      <td>детская</td>\n",
       "      <td>62.117.87.150/MarcWeb/</td>\n",
       "    </tr>\n",
       "    <tr>\n",
       "      <th>4</th>\n",
       "      <td>Центральная детская библиотека №66</td>\n",
       "      <td>детская</td>\n",
       "      <td>opac.nekrasovka.ru/opacg2/?bibl</td>\n",
       "    </tr>\n",
       "  </tbody>\n",
       "</table>\n",
       "</div>"
      ],
      "text/plain": [
       "                                            Название Тип библиотеки  \\\n",
       "0                     Библиотека им. Н. А. Некрасова  универсальная   \n",
       "1  Пункт книговыдачи Библиотеки им. Н. А. Некрасо...  универсальная   \n",
       "2  Пункт книговыдачи Библиотеки им. Н. А. Некрасо...  универсальная   \n",
       "3  Центральная детская библиотека №78 им. И.А. Кр...        детская   \n",
       "4                 Центральная детская библиотека №66        детская   \n",
       "\n",
       "               Электронный каталог  \n",
       "0          opac.nekrasovka.ru/vmk/  \n",
       "1          opac.nekrasovka.ru/vmk/  \n",
       "2          opac.nekrasovka.ru/vmk/  \n",
       "3           62.117.87.150/MarcWeb/  \n",
       "4  opac.nekrasovka.ru/opacg2/?bibl  "
      ]
     },
     "execution_count": 163,
     "metadata": {},
     "output_type": "execute_result"
    }
   ],
   "source": [
    "data = pd.DataFrame(d)\n",
    "data.head()"
   ]
  },
  {
   "cell_type": "code",
   "execution_count": 165,
   "metadata": {},
   "outputs": [],
   "source": [
    "data.to_csv('bibliogorod.csv')"
   ]
  },
  {
   "cell_type": "code",
   "execution_count": null,
   "metadata": {},
   "outputs": [],
   "source": []
  }
 ],
 "metadata": {
  "kernelspec": {
   "display_name": "Python 3",
   "language": "python",
   "name": "python3"
  },
  "language_info": {
   "codemirror_mode": {
    "name": "ipython",
    "version": 3
   },
   "file_extension": ".py",
   "mimetype": "text/x-python",
   "name": "python",
   "nbconvert_exporter": "python",
   "pygments_lexer": "ipython3",
   "version": "3.6.5"
  }
 },
 "nbformat": 4,
 "nbformat_minor": 2
}
