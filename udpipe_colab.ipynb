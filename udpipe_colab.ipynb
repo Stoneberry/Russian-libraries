{
 "cells": [
  {
   "cell_type": "code",
   "execution_count": 0,
   "metadata": {
    "colab": {},
    "colab_type": "code",
    "id": "8L0IMwtZjDrv"
   },
   "outputs": [],
   "source": [
    "import spacy_udpipe\n",
    "from google.colab import files\n",
    "import string\n",
    "from wiki_ru_wordnet import WikiWordnet\n",
    "\n",
    "wikiwordnet = WikiWordnet()"
   ]
  },
  {
   "cell_type": "code",
   "execution_count": 0,
   "metadata": {
    "colab": {},
    "colab_type": "code",
    "id": "rqbijeyC06l_"
   },
   "outputs": [],
   "source": [
    "from google.colab import files\n"
   ]
  },
  {
   "cell_type": "markdown",
   "metadata": {
    "colab_type": "text",
    "id": "lu-rEowajGod"
   },
   "source": [
    "### Загрузка текстов"
   ]
  },
  {
   "cell_type": "code",
   "execution_count": 0,
   "metadata": {
    "colab": {},
    "colab_type": "code",
    "id": "KvyMFwL2VBs_"
   },
   "outputs": [],
   "source": [
    "text = uploaded['decript_clean.txt'].decode('UTF-8')"
   ]
  },
  {
   "cell_type": "code",
   "execution_count": 0,
   "metadata": {
    "colab": {
     "base_uri": "https://localhost:8080/",
     "height": 34
    },
    "colab_type": "code",
    "id": "Yrv-7a_4WbD0",
    "outputId": "0edfc540-d81e-49a7-a759-1b961e846bc2"
   },
   "outputs": [
    {
     "data": {
      "text/plain": [
       "'Библиотека основана в 1973 году. Расположена в деревне Аксёново Дмитриевского сельского поселения Га'"
      ]
     },
     "execution_count": 24,
     "metadata": {
      "tags": []
     },
     "output_type": "execute_result"
    }
   ],
   "source": [
    "text[:100]"
   ]
  },
  {
   "cell_type": "markdown",
   "metadata": {
    "colab_type": "text",
    "id": "xoA3QkPvjTFD"
   },
   "source": [
    "### Загрузка русского корпуса"
   ]
  },
  {
   "cell_type": "code",
   "execution_count": 31,
   "metadata": {
    "colab": {
     "base_uri": "https://localhost:8080/",
     "height": 34
    },
    "colab_type": "code",
    "id": "mco0R56Me4nR",
    "outputId": "a185e0da-b41e-42d5-d3c6-f205a33851fe"
   },
   "outputs": [
    {
     "name": "stdout",
     "output_type": "stream",
     "text": [
      "Successfully downloaded the pretrained UDPipe model for the 'ru' language\n"
     ]
    }
   ],
   "source": [
    "spacy_udpipe.download(\"ru\")\n",
    "nlp = spacy_udpipe.load(\"ru\")"
   ]
  },
  {
   "cell_type": "markdown",
   "metadata": {
    "colab_type": "text",
    "id": "zUcXSAWjjeqA"
   },
   "source": [
    "### Тестирование"
   ]
  },
  {
   "cell_type": "code",
   "execution_count": 0,
   "metadata": {
    "colab": {},
    "colab_type": "code",
    "id": "te_jsaVHmikR"
   },
   "outputs": [],
   "source": [
    "# is_digit"
   ]
  },
  {
   "cell_type": "code",
   "execution_count": 0,
   "metadata": {
    "colab": {},
    "colab_type": "code",
    "id": "_dJgt_6Le_AG"
   },
   "outputs": [],
   "source": [
    "examples = ['Библиотека основана в 1973 году.', 'Малышевская сельская библиотека была основана в 1936 году', 'Библиотека № 1 была открыта в феврале 1968 года', 'Дата основания районной библиотеки – 1983 год.']"
   ]
  },
  {
   "cell_type": "code",
   "execution_count": 0,
   "metadata": {
    "colab": {},
    "colab_type": "code",
    "id": "JCgo6JbGfMfn"
   },
   "outputs": [],
   "source": [
    "# is_digit\n",
    "\n",
    "def view_structure(text):\n",
    "  \n",
    "  doc = nlp(text)\n",
    "\n",
    "  for token in doc:\n",
    "    print(token.text, token.lemma_, token.pos_, token.dep_, token.head)"
   ]
  },
  {
   "cell_type": "code",
   "execution_count": 110,
   "metadata": {
    "colab": {
     "base_uri": "https://localhost:8080/",
     "height": 612
    },
    "colab_type": "code",
    "id": "SxaCxpR3m5QU",
    "outputId": "8417614d-7e31-4549-83cc-c92906d5a559"
   },
   "outputs": [
    {
     "name": "stdout",
     "output_type": "stream",
     "text": [
      "Библиотека библиотека NOUN nsubj:pass основана\n",
      "основана основать VERB ROOT основана\n",
      "в в ADP case году\n",
      "1973 1973 ADJ amod году\n",
      "году год NOUN obl основана\n",
      ". . PUNCT punct основана\n",
      "\n",
      "Малышевская Малышевский ADJ amod библиотека\n",
      "сельская сельский ADJ amod библиотека\n",
      "библиотека библиотека NOUN nsubj:pass основана\n",
      "была быть AUX aux:pass основана\n",
      "основана основать VERB ROOT основана\n",
      "в в ADP case году\n",
      "1936 1936 ADJ amod году\n",
      "году год NOUN obl основана\n",
      "\n",
      "Библиотека библиотека NOUN nsubj:pass открыта\n",
      "№ № SYM nmod Библиотека\n",
      "1 1 NUM nummod №\n",
      "была быть AUX aux:pass открыта\n",
      "открыта открыть VERB ROOT открыта\n",
      "в в ADP case феврале\n",
      "феврале февраль NOUN obl открыта\n",
      "1968 1968 ADJ amod года\n",
      "года год NOUN nmod феврале\n",
      "\n",
      "Дата дата NOUN ROOT Дата\n",
      "основания основание NOUN nmod Дата\n",
      "районной районный ADJ amod библиотеки\n",
      "библиотеки библиотека NOUN nmod основания\n",
      "– – PUNCT punct год\n",
      "1983 1983 ADJ amod год\n",
      "год год NOUN nmod Дата\n",
      ". . PUNCT punct Дата\n",
      "\n"
     ]
    }
   ],
   "source": [
    "for ex in examples:\n",
    "  view_structure(ex)\n",
    "  print()"
   ]
  },
  {
   "cell_type": "markdown",
   "metadata": {
    "colab_type": "text",
    "id": "9RKuJnc3nFE5"
   },
   "source": [
    "***Схема:*** основана -> году -> 1936"
   ]
  },
  {
   "cell_type": "markdown",
   "metadata": {
    "colab_type": "text",
    "id": "VlVACIpMqjUM"
   },
   "source": [
    "### Тестирование Wordnet для русского"
   ]
  },
  {
   "cell_type": "code",
   "execution_count": 0,
   "metadata": {
    "colab": {},
    "colab_type": "code",
    "id": "wYPh7PuZoIIR"
   },
   "outputs": [],
   "source": [
    "def get_syn(word):\n",
    "  synsets = wikiwordnet.get_synsets(word)\n",
    "  for index, item in enumerate(synsets):\n",
    "    for w in item.get_words():\n",
    "      print(index, w.lemma())"
   ]
  },
  {
   "cell_type": "code",
   "execution_count": 88,
   "metadata": {
    "colab": {
     "base_uri": "https://localhost:8080/",
     "height": 323
    },
    "colab_type": "code",
    "id": "4brFvrnPoRfv",
    "outputId": "37e0bc47-f450-46d3-b958-6344436da0fe"
   },
   "outputs": [
    {
     "name": "stdout",
     "output_type": "stream",
     "text": [
      "0 основывать\n",
      "1 основывать\n",
      "\n",
      "0 основать\n",
      "1 основать\n",
      "1 учредить\n",
      "\n",
      "0 открыть\n",
      "1 открыть\n",
      "2 открыть\n",
      "\n",
      "0 находиться\n",
      "1 находиться\n",
      "2 располагаться\n",
      "2 находиться\n",
      "3 обретаться\n",
      "3 находиться\n",
      "\n"
     ]
    }
   ],
   "source": [
    "wordnet_ex = ['основывать', 'основать', 'открыть', 'находиться']\n",
    "\n",
    "\n",
    "for word in wordnet_ex:\n",
    "  get_syn(word)\n",
    "  print()"
   ]
  },
  {
   "cell_type": "code",
   "execution_count": 0,
   "metadata": {
    "colab": {},
    "colab_type": "code",
    "id": "tNLvEhz_9o1m"
   },
   "outputs": [],
   "source": []
  },
  {
   "cell_type": "code",
   "execution_count": 0,
   "metadata": {
    "colab": {},
    "colab_type": "code",
    "id": "Co5cAIGz9o4j"
   },
   "outputs": [],
   "source": []
  },
  {
   "cell_type": "code",
   "execution_count": 0,
   "metadata": {
    "colab": {},
    "colab_type": "code",
    "id": "d_Gtc7Ta9o-J"
   },
   "outputs": [],
   "source": []
  },
  {
   "cell_type": "markdown",
   "metadata": {
    "colab_type": "text",
    "id": "P-yBx-q39uQ3"
   },
   "source": [
    "### Дата основания"
   ]
  },
  {
   "cell_type": "markdown",
   "metadata": {
    "colab_type": "text",
    "id": "7aDh_osn91FP"
   },
   "source": [
    "* ('была', 'открыта', 'в')\n",
    "* ('библиотека', 'была', 'открыта')\n",
    "* ('библиотека', 'основана', 'в')\n",
    "* ('была', 'основана', 'в')\n",
    "* ('библиотека', 'была', 'основана')\n",
    "* Дата рождения Всеволожской городской библиотеки – 19 мая 1908 года. \n",
    "* Свою историю библиотека ведет с 1932 года\n",
    "* В 1945 году в здании клуба была организована сельская библиотека\n",
    "* Официальная дата рождения библиотеки 18 июля 1954 года\n",
    "* Дата основания районной библиотеки – 1983 год.\n",
    "* Пищалкинская сельская библиотека работает в поселке Пищалкино с 1987 года. \n",
    "\n",
    "---> открыта, основана"
   ]
  },
  {
   "cell_type": "code",
   "execution_count": 0,
   "metadata": {
    "colab": {},
    "colab_type": "code",
    "id": "TllLq__X9pBQ"
   },
   "outputs": [],
   "source": []
  },
  {
   "cell_type": "code",
   "execution_count": 0,
   "metadata": {
    "colab": {},
    "colab_type": "code",
    "id": "p6iSOcvh900L"
   },
   "outputs": [],
   "source": []
  }
 ],
 "metadata": {
  "colab": {
   "collapsed_sections": [],
   "name": "Untitled2.ipynb",
   "provenance": []
  },
  "kernelspec": {
   "display_name": "Python 3",
   "language": "python",
   "name": "python3"
  },
  "language_info": {
   "codemirror_mode": {
    "name": "ipython",
    "version": 3
   },
   "file_extension": ".py",
   "mimetype": "text/x-python",
   "name": "python",
   "nbconvert_exporter": "python",
   "pygments_lexer": "ipython3",
   "version": "3.6.5"
  }
 },
 "nbformat": 4,
 "nbformat_minor": 1
}
