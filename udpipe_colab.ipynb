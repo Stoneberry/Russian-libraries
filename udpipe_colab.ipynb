{
  "nbformat": 4,
  "nbformat_minor": 0,
  "metadata": {
    "colab": {
      "name": "Untitled2.ipynb",
      "provenance": [],
      "collapsed_sections": []
    },
    "kernelspec": {
      "name": "python3",
      "display_name": "Python 3"
    }
  },
  "cells": [
    {
      "cell_type": "code",
      "metadata": {
        "id": "8L0IMwtZjDrv",
        "colab_type": "code",
        "colab": {}
      },
      "source": [
        "import spacy_udpipe\n",
        "from google.colab import files\n",
        "import string\n",
        "from wiki_ru_wordnet import WikiWordnet\n",
        "\n",
        "wikiwordnet = WikiWordnet()"
      ],
      "execution_count": 0,
      "outputs": []
    },
    {
      "cell_type": "code",
      "metadata": {
        "id": "rqbijeyC06l_",
        "colab_type": "code",
        "colab": {}
      },
      "source": [
        "from google.colab import files\n"
      ],
      "execution_count": 0,
      "outputs": []
    },
    {
      "cell_type": "markdown",
      "metadata": {
        "id": "lu-rEowajGod",
        "colab_type": "text"
      },
      "source": [
        "### Загрузка текстов"
      ]
    },
    {
      "cell_type": "code",
      "metadata": {
        "id": "KvyMFwL2VBs_",
        "colab_type": "code",
        "colab": {}
      },
      "source": [
        "text = uploaded['decript_clean.txt'].decode('UTF-8')"
      ],
      "execution_count": 0,
      "outputs": []
    },
    {
      "cell_type": "code",
      "metadata": {
        "id": "Yrv-7a_4WbD0",
        "colab_type": "code",
        "outputId": "0edfc540-d81e-49a7-a759-1b961e846bc2",
        "colab": {
          "base_uri": "https://localhost:8080/",
          "height": 34
        }
      },
      "source": [
        "text[:100]"
      ],
      "execution_count": 0,
      "outputs": [
        {
          "output_type": "execute_result",
          "data": {
            "text/plain": [
              "'Библиотека основана в 1973 году. Расположена в деревне Аксёново Дмитриевского сельского поселения Га'"
            ]
          },
          "metadata": {
            "tags": []
          },
          "execution_count": 24
        }
      ]
    },
    {
      "cell_type": "markdown",
      "metadata": {
        "id": "xoA3QkPvjTFD",
        "colab_type": "text"
      },
      "source": [
        "### Загрузка русского корпуса"
      ]
    },
    {
      "cell_type": "code",
      "metadata": {
        "id": "mco0R56Me4nR",
        "colab_type": "code",
        "colab": {
          "base_uri": "https://localhost:8080/",
          "height": 34
        },
        "outputId": "a185e0da-b41e-42d5-d3c6-f205a33851fe"
      },
      "source": [
        "spacy_udpipe.download(\"ru\")\n",
        "nlp = spacy_udpipe.load(\"ru\")"
      ],
      "execution_count": 31,
      "outputs": [
        {
          "output_type": "stream",
          "text": [
            "Successfully downloaded the pretrained UDPipe model for the 'ru' language\n"
          ],
          "name": "stdout"
        }
      ]
    },
    {
      "cell_type": "markdown",
      "metadata": {
        "id": "zUcXSAWjjeqA",
        "colab_type": "text"
      },
      "source": [
        "### Тестирование"
      ]
    },
    {
      "cell_type": "code",
      "metadata": {
        "id": "te_jsaVHmikR",
        "colab_type": "code",
        "colab": {}
      },
      "source": [
        "# is_digit"
      ],
      "execution_count": 0,
      "outputs": []
    },
    {
      "cell_type": "code",
      "metadata": {
        "id": "_dJgt_6Le_AG",
        "colab_type": "code",
        "colab": {}
      },
      "source": [
        "examples = ['Библиотека основана в 1973 году.', 'Малышевская сельская библиотека была основана в 1936 году', 'Библиотека № 1 была открыта в феврале 1968 года', 'Дата основания районной библиотеки – 1983 год.']"
      ],
      "execution_count": 0,
      "outputs": []
    },
    {
      "cell_type": "code",
      "metadata": {
        "id": "JCgo6JbGfMfn",
        "colab_type": "code",
        "colab": {}
      },
      "source": [
        "# is_digit\n",
        "\n",
        "def view_structure(text):\n",
        "  \n",
        "  doc = nlp(text)\n",
        "\n",
        "  for token in doc:\n",
        "    print(token.text, token.lemma_, token.pos_, token.dep_, token.head)"
      ],
      "execution_count": 0,
      "outputs": []
    },
    {
      "cell_type": "code",
      "metadata": {
        "id": "SxaCxpR3m5QU",
        "colab_type": "code",
        "colab": {
          "base_uri": "https://localhost:8080/",
          "height": 612
        },
        "outputId": "8417614d-7e31-4549-83cc-c92906d5a559"
      },
      "source": [
        "for ex in examples:\n",
        "  view_structure(ex)\n",
        "  print()"
      ],
      "execution_count": 110,
      "outputs": [
        {
          "output_type": "stream",
          "text": [
            "Библиотека библиотека NOUN nsubj:pass основана\n",
            "основана основать VERB ROOT основана\n",
            "в в ADP case году\n",
            "1973 1973 ADJ amod году\n",
            "году год NOUN obl основана\n",
            ". . PUNCT punct основана\n",
            "\n",
            "Малышевская Малышевский ADJ amod библиотека\n",
            "сельская сельский ADJ amod библиотека\n",
            "библиотека библиотека NOUN nsubj:pass основана\n",
            "была быть AUX aux:pass основана\n",
            "основана основать VERB ROOT основана\n",
            "в в ADP case году\n",
            "1936 1936 ADJ amod году\n",
            "году год NOUN obl основана\n",
            "\n",
            "Библиотека библиотека NOUN nsubj:pass открыта\n",
            "№ № SYM nmod Библиотека\n",
            "1 1 NUM nummod №\n",
            "была быть AUX aux:pass открыта\n",
            "открыта открыть VERB ROOT открыта\n",
            "в в ADP case феврале\n",
            "феврале февраль NOUN obl открыта\n",
            "1968 1968 ADJ amod года\n",
            "года год NOUN nmod феврале\n",
            "\n",
            "Дата дата NOUN ROOT Дата\n",
            "основания основание NOUN nmod Дата\n",
            "районной районный ADJ amod библиотеки\n",
            "библиотеки библиотека NOUN nmod основания\n",
            "– – PUNCT punct год\n",
            "1983 1983 ADJ amod год\n",
            "год год NOUN nmod Дата\n",
            ". . PUNCT punct Дата\n",
            "\n"
          ],
          "name": "stdout"
        }
      ]
    },
    {
      "cell_type": "markdown",
      "metadata": {
        "id": "9RKuJnc3nFE5",
        "colab_type": "text"
      },
      "source": [
        "***Схема:*** основана -> году -> 1936"
      ]
    },
    {
      "cell_type": "markdown",
      "metadata": {
        "id": "VlVACIpMqjUM",
        "colab_type": "text"
      },
      "source": [
        "### Тестирование Wordnet для русского"
      ]
    },
    {
      "cell_type": "code",
      "metadata": {
        "id": "wYPh7PuZoIIR",
        "colab_type": "code",
        "colab": {}
      },
      "source": [
        "def get_syn(word):\n",
        "  synsets = wikiwordnet.get_synsets(word)\n",
        "  for index, item in enumerate(synsets):\n",
        "    for w in item.get_words():\n",
        "      print(index, w.lemma())"
      ],
      "execution_count": 0,
      "outputs": []
    },
    {
      "cell_type": "code",
      "metadata": {
        "id": "4brFvrnPoRfv",
        "colab_type": "code",
        "colab": {
          "base_uri": "https://localhost:8080/",
          "height": 323
        },
        "outputId": "37e0bc47-f450-46d3-b958-6344436da0fe"
      },
      "source": [
        "wordnet_ex = ['основывать', 'основать', 'открыть', 'находиться']\n",
        "\n",
        "\n",
        "for word in wordnet_ex:\n",
        "  get_syn(word)\n",
        "  print()"
      ],
      "execution_count": 88,
      "outputs": [
        {
          "output_type": "stream",
          "text": [
            "0 основывать\n",
            "1 основывать\n",
            "\n",
            "0 основать\n",
            "1 основать\n",
            "1 учредить\n",
            "\n",
            "0 открыть\n",
            "1 открыть\n",
            "2 открыть\n",
            "\n",
            "0 находиться\n",
            "1 находиться\n",
            "2 располагаться\n",
            "2 находиться\n",
            "3 обретаться\n",
            "3 находиться\n",
            "\n"
          ],
          "name": "stdout"
        }
      ]
    },
    {
      "cell_type": "code",
      "metadata": {
        "id": "tNLvEhz_9o1m",
        "colab_type": "code",
        "colab": {}
      },
      "source": [
        ""
      ],
      "execution_count": 0,
      "outputs": []
    },
    {
      "cell_type": "code",
      "metadata": {
        "id": "Co5cAIGz9o4j",
        "colab_type": "code",
        "colab": {}
      },
      "source": [
        ""
      ],
      "execution_count": 0,
      "outputs": []
    },
    {
      "cell_type": "code",
      "metadata": {
        "id": "d_Gtc7Ta9o-J",
        "colab_type": "code",
        "colab": {}
      },
      "source": [
        ""
      ],
      "execution_count": 0,
      "outputs": []
    },
    {
      "cell_type": "markdown",
      "metadata": {
        "id": "P-yBx-q39uQ3",
        "colab_type": "text"
      },
      "source": [
        "### Дата основания"
      ]
    },
    {
      "cell_type": "markdown",
      "metadata": {
        "id": "7aDh_osn91FP",
        "colab_type": "text"
      },
      "source": [
        "* ('была', 'открыта', 'в')\n",
        "* ('библиотека', 'была', 'открыта')\n",
        "* ('библиотека', 'основана', 'в')\n",
        "* ('была', 'основана', 'в')\n",
        "* ('библиотека', 'была', 'основана')\n",
        "* Дата рождения Всеволожской городской библиотеки – 19 мая 1908 года. \n",
        "* Свою историю библиотека ведет с 1932 года\n",
        "* В 1945 году в здании клуба была организована сельская библиотека\n",
        "* Официальная дата рождения библиотеки 18 июля 1954 года\n",
        "* Дата основания районной библиотеки – 1983 год.\n",
        "* Пищалкинская сельская библиотека работает в поселке Пищалкино с 1987 года. \n",
        "\n",
        "---> открыта, основана"
      ]
    },
    {
      "cell_type": "code",
      "metadata": {
        "id": "TllLq__X9pBQ",
        "colab_type": "code",
        "colab": {}
      },
      "source": [
        ""
      ],
      "execution_count": 0,
      "outputs": []
    },
    {
      "cell_type": "code",
      "metadata": {
        "id": "p6iSOcvh900L",
        "colab_type": "code",
        "colab": {}
      },
      "source": [
        ""
      ],
      "execution_count": 0,
      "outputs": []
    }
  ]
}