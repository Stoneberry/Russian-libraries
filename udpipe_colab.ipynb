{
  "nbformat": 4,
  "nbformat_minor": 0,
  "metadata": {
    "colab": {
      "name": "Libr.ipynb",
      "provenance": [],
      "collapsed_sections": []
    },
    "kernelspec": {
      "name": "python3",
      "display_name": "Python 3"
    }
  },
  "cells": [
    {
      "cell_type": "code",
      "metadata": {
        "id": "8L0IMwtZjDrv",
        "colab_type": "code",
        "colab": {}
      },
      "source": [
        "import spacy_udpipe\n",
        "from google.colab import files\n",
        "import string\n",
        "import re\n",
        "from wiki_ru_wordnet import WikiWordnet\n",
        "import pymorphy2\n",
        "\n",
        "morph = pymorphy2.MorphAnalyzer()\n",
        "wikiwordnet = WikiWordnet()"
      ],
      "execution_count": 0,
      "outputs": []
    },
    {
      "cell_type": "code",
      "metadata": {
        "id": "rqbijeyC06l_",
        "colab_type": "code",
        "colab": {}
      },
      "source": [
        "from google.colab import files\n"
      ],
      "execution_count": 0,
      "outputs": []
    },
    {
      "cell_type": "markdown",
      "metadata": {
        "id": "lu-rEowajGod",
        "colab_type": "text"
      },
      "source": [
        "### Загрузка текстов"
      ]
    },
    {
      "cell_type": "code",
      "metadata": {
        "id": "KvyMFwL2VBs_",
        "colab_type": "code",
        "outputId": "66cf1a15-8f77-4576-aec0-319057444012",
        "colab": {
          "resources": {
            "http://localhost:8080/nbextensions/google.colab/files.js": {
              "data": "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",
              "ok": true,
              "headers": [
                [
                  "content-type",
                  "application/javascript"
                ]
              ],
              "status": 200,
              "status_text": ""
            }
          },
          "base_uri": "https://localhost:8080/",
          "height": 71
        }
      },
      "source": [
        "uploaded = files.upload()"
      ],
      "execution_count": 0,
      "outputs": [
        {
          "output_type": "display_data",
          "data": {
            "text/html": [
              "\n",
              "     <input type=\"file\" id=\"files-df9684c0-19d3-4b3b-b723-12b45ab4b3e6\" name=\"files[]\" multiple disabled />\n",
              "     <output id=\"result-df9684c0-19d3-4b3b-b723-12b45ab4b3e6\">\n",
              "      Upload widget is only available when the cell has been executed in the\n",
              "      current browser session. Please rerun this cell to enable.\n",
              "      </output>\n",
              "      <script src=\"/nbextensions/google.colab/files.js\"></script> "
            ],
            "text/plain": [
              "<IPython.core.display.HTML object>"
            ]
          },
          "metadata": {
            "tags": []
          }
        },
        {
          "output_type": "stream",
          "text": [
            "Saving decript_clean.txt to decript_clean.txt\n"
          ],
          "name": "stdout"
        }
      ]
    },
    {
      "cell_type": "code",
      "metadata": {
        "id": "nY79UVaxkHjw",
        "colab_type": "code",
        "colab": {}
      },
      "source": [
        "text = uploaded['decript_clean.txt'].decode('UTF-8')"
      ],
      "execution_count": 0,
      "outputs": []
    },
    {
      "cell_type": "code",
      "metadata": {
        "id": "Yrv-7a_4WbD0",
        "colab_type": "code",
        "outputId": "f19c7cae-9ae7-49c1-efff-fe09b1996571",
        "colab": {
          "base_uri": "https://localhost:8080/",
          "height": 34
        }
      },
      "source": [
        "text[:100]"
      ],
      "execution_count": 0,
      "outputs": [
        {
          "output_type": "execute_result",
          "data": {
            "text/plain": [
              "'Библиотека основана в 1973 году. Расположена в деревне Аксёново Дмитриевского сельского поселения Га'"
            ]
          },
          "metadata": {
            "tags": []
          },
          "execution_count": 25
        }
      ]
    },
    {
      "cell_type": "markdown",
      "metadata": {
        "id": "xoA3QkPvjTFD",
        "colab_type": "text"
      },
      "source": [
        "### Загрузка русского корпуса"
      ]
    },
    {
      "cell_type": "code",
      "metadata": {
        "id": "mco0R56Me4nR",
        "colab_type": "code",
        "outputId": "8cee752a-99a7-4a6c-d0e0-797c8e01ac18",
        "colab": {
          "base_uri": "https://localhost:8080/",
          "height": 34
        }
      },
      "source": [
        "spacy_udpipe.download(\"ru\")\n",
        "nlp = spacy_udpipe.load(\"ru\")"
      ],
      "execution_count": 0,
      "outputs": [
        {
          "output_type": "stream",
          "text": [
            "Already downloaded a model for the 'ru' language\n"
          ],
          "name": "stdout"
        }
      ]
    },
    {
      "cell_type": "markdown",
      "metadata": {
        "id": "zUcXSAWjjeqA",
        "colab_type": "text"
      },
      "source": [
        "### Тестирование"
      ]
    },
    {
      "cell_type": "code",
      "metadata": {
        "id": "te_jsaVHmikR",
        "colab_type": "code",
        "colab": {}
      },
      "source": [
        "# is_digit"
      ],
      "execution_count": 0,
      "outputs": []
    },
    {
      "cell_type": "code",
      "metadata": {
        "id": "_dJgt_6Le_AG",
        "colab_type": "code",
        "colab": {}
      },
      "source": [
        "examples = ['Библиотека основана в 1973 году.', 'Малышевская сельская библиотека была основана в 1936 году', 'Библиотека № 1 была открыта в феврале 1968 года', 'Дата основания районной библиотеки – 1983 год.']"
      ],
      "execution_count": 0,
      "outputs": []
    },
    {
      "cell_type": "code",
      "metadata": {
        "id": "JCgo6JbGfMfn",
        "colab_type": "code",
        "colab": {}
      },
      "source": [
        "# is_digit\n",
        "\n",
        "def view_structure(text):\n",
        "  \n",
        "  doc = nlp(text)\n",
        "\n",
        "  for token in doc:\n",
        "    print(token.text, token.lemma_, token.pos_, token.dep_, token.head)"
      ],
      "execution_count": 0,
      "outputs": []
    },
    {
      "cell_type": "code",
      "metadata": {
        "id": "SxaCxpR3m5QU",
        "colab_type": "code",
        "outputId": "8417614d-7e31-4549-83cc-c92906d5a559",
        "colab": {
          "base_uri": "https://localhost:8080/",
          "height": 612
        }
      },
      "source": [
        "for ex in examples:\n",
        "  view_structure(ex)\n",
        "  print()"
      ],
      "execution_count": 0,
      "outputs": [
        {
          "output_type": "stream",
          "text": [
            "Библиотека библиотека NOUN nsubj:pass основана\n",
            "основана основать VERB ROOT основана\n",
            "в в ADP case году\n",
            "1973 1973 ADJ amod году\n",
            "году год NOUN obl основана\n",
            ". . PUNCT punct основана\n",
            "\n",
            "Малышевская Малышевский ADJ amod библиотека\n",
            "сельская сельский ADJ amod библиотека\n",
            "библиотека библиотека NOUN nsubj:pass основана\n",
            "была быть AUX aux:pass основана\n",
            "основана основать VERB ROOT основана\n",
            "в в ADP case году\n",
            "1936 1936 ADJ amod году\n",
            "году год NOUN obl основана\n",
            "\n",
            "Библиотека библиотека NOUN nsubj:pass открыта\n",
            "№ № SYM nmod Библиотека\n",
            "1 1 NUM nummod №\n",
            "была быть AUX aux:pass открыта\n",
            "открыта открыть VERB ROOT открыта\n",
            "в в ADP case феврале\n",
            "феврале февраль NOUN obl открыта\n",
            "1968 1968 ADJ amod года\n",
            "года год NOUN nmod феврале\n",
            "\n",
            "Дата дата NOUN ROOT Дата\n",
            "основания основание NOUN nmod Дата\n",
            "районной районный ADJ amod библиотеки\n",
            "библиотеки библиотека NOUN nmod основания\n",
            "– – PUNCT punct год\n",
            "1983 1983 ADJ amod год\n",
            "год год NOUN nmod Дата\n",
            ". . PUNCT punct Дата\n",
            "\n"
          ],
          "name": "stdout"
        }
      ]
    },
    {
      "cell_type": "markdown",
      "metadata": {
        "id": "9RKuJnc3nFE5",
        "colab_type": "text"
      },
      "source": [
        "***Схема:*** основана -> году -> 1936"
      ]
    },
    {
      "cell_type": "code",
      "metadata": {
        "id": "clrbXxDZl6B8",
        "colab_type": "code",
        "colab": {}
      },
      "source": [
        ""
      ],
      "execution_count": 0,
      "outputs": []
    },
    {
      "cell_type": "code",
      "metadata": {
        "id": "ZTe8U00Dl6Ev",
        "colab_type": "code",
        "outputId": "5b148ea3-4832-4b32-c60f-56f8982bf405",
        "colab": {
          "base_uri": "https://localhost:8080/",
          "height": 136
        }
      },
      "source": [
        "view_structure('Дата основания районной библиотеки – 1983 год')"
      ],
      "execution_count": 0,
      "outputs": [
        {
          "output_type": "stream",
          "text": [
            "Дата дата NOUN ROOT Дата\n",
            "основания основание NOUN nmod Дата\n",
            "районной районный ADJ amod библиотеки\n",
            "библиотеки библиотека NOUN nmod основания\n",
            "– – PUNCT punct Дата\n",
            "1983 1983 ADJ amod год\n",
            "год год NOUN nmod Дата\n"
          ],
          "name": "stdout"
        }
      ]
    },
    {
      "cell_type": "code",
      "metadata": {
        "id": "7lo62xT5l6H6",
        "colab_type": "code",
        "colab": {}
      },
      "source": [
        ""
      ],
      "execution_count": 0,
      "outputs": []
    },
    {
      "cell_type": "markdown",
      "metadata": {
        "id": "VlVACIpMqjUM",
        "colab_type": "text"
      },
      "source": [
        "### Тестирование Wordnet для русского"
      ]
    },
    {
      "cell_type": "code",
      "metadata": {
        "id": "wYPh7PuZoIIR",
        "colab_type": "code",
        "colab": {}
      },
      "source": [
        "def get_syn(word):\n",
        "  \n",
        "  syns = []\n",
        "  \n",
        "  synsets = wikiwordnet.get_synsets(word)\n",
        "  for index, item in enumerate(synsets):\n",
        "    for w in item.get_words():\n",
        "      syns.append(w.lemma())\n",
        "  \n",
        "  return syns"
      ],
      "execution_count": 0,
      "outputs": []
    },
    {
      "cell_type": "code",
      "metadata": {
        "id": "4brFvrnPoRfv",
        "colab_type": "code",
        "outputId": "e6899ba8-d14f-4dbe-9145-39ab8e36e3f1",
        "colab": {
          "base_uri": "https://localhost:8080/",
          "height": 85
        }
      },
      "source": [
        "wordnet_ex = ['основывать', 'основать', 'открыть', 'находиться']\n",
        "\n",
        "\n",
        "for word in wordnet_ex:\n",
        "  syns = get_syn(word)\n",
        "  print(syns)"
      ],
      "execution_count": 0,
      "outputs": [
        {
          "output_type": "stream",
          "text": [
            "['основывать', 'основывать']\n",
            "['основать', 'основать', 'учредить']\n",
            "['открыть', 'открыть', 'открыть']\n",
            "['находиться', 'находиться', 'располагаться', 'находиться', 'находиться', 'обретаться']\n"
          ],
          "name": "stdout"
        }
      ]
    },
    {
      "cell_type": "code",
      "metadata": {
        "id": "tNLvEhz_9o1m",
        "colab_type": "code",
        "colab": {}
      },
      "source": [
        ""
      ],
      "execution_count": 0,
      "outputs": []
    },
    {
      "cell_type": "code",
      "metadata": {
        "id": "Co5cAIGz9o4j",
        "colab_type": "code",
        "outputId": "c82c2d03-eef3-4e42-9a9e-913503387afb",
        "colab": {
          "base_uri": "https://localhost:8080/",
          "height": 68
        }
      },
      "source": [
        "get_syn('основать')"
      ],
      "execution_count": 0,
      "outputs": [
        {
          "output_type": "stream",
          "text": [
            "0 основать\n",
            "1 основать\n",
            "1 учредить\n"
          ],
          "name": "stdout"
        }
      ]
    },
    {
      "cell_type": "code",
      "metadata": {
        "id": "d_Gtc7Ta9o-J",
        "colab_type": "code",
        "colab": {}
      },
      "source": [
        ""
      ],
      "execution_count": 0,
      "outputs": []
    },
    {
      "cell_type": "markdown",
      "metadata": {
        "id": "P-yBx-q39uQ3",
        "colab_type": "text"
      },
      "source": [
        "### Дата основания"
      ]
    },
    {
      "cell_type": "markdown",
      "metadata": {
        "id": "7aDh_osn91FP",
        "colab_type": "text"
      },
      "source": [
        "* ('была', 'открыта', 'в')\n",
        "* ('библиотека', 'была', 'открыта')\n",
        "* ('библиотека', 'основана', 'в')\n",
        "* ('была', 'основана', 'в')\n",
        "* ('библиотека', 'была', 'основана')\n",
        "* Дата рождения Всеволожской городской библиотеки – 19 мая 1908 года. \n",
        "* Свою историю библиотека ведет с 1932 года\n",
        "* В 1945 году в здании клуба была организована сельская библиотека\n",
        "* Официальная дата рождения библиотеки 18 июля 1954 года\n",
        "* Дата основания районной библиотеки – 1983 год.\n",
        "* Пищалкинская сельская библиотека работает в поселке Пищалкино с 1987 года. \n",
        "\n",
        "---> открыта, основана"
      ]
    },
    {
      "cell_type": "markdown",
      "metadata": {
        "id": "q0pbxiAA4nAe",
        "colab_type": "text"
      },
      "source": [
        "Прогоним получившиеся слова для темы через ворднет, чтобы достать синонимы."
      ]
    },
    {
      "cell_type": "code",
      "metadata": {
        "id": "p6iSOcvh900L",
        "colab_type": "code",
        "colab": {}
      },
      "source": [
        "words = {'основана': ['библиотека', 'году', 'в'],\n",
        " 'открыта': ['библиотека', 'году', 'в'],\n",
        " 'организована': ['библиотека', 'году', 'в'],\n",
        " 'учреждена': ['библиотека', 'году', 'в'],\n",
        " 'работает': ['библиотека', 'года', 'с'],\n",
        " 'открылась': ['библиотека', 'года'],\n",
        " 'началась': ['библиотеки', 'году', 'в'],\n",
        " 'возобновилась': ['библиотеки', 'году', 'в']}"
      ],
      "execution_count": 0,
      "outputs": []
    },
    {
      "cell_type": "code",
      "metadata": {
        "id": "8purynb94cYB",
        "colab_type": "code",
        "colab": {}
      },
      "source": [
        "def wordnet_syn_search(words):\n",
        "\n",
        "    new_words = {}\n",
        "\n",
        "    for word in words:\n",
        "    \n",
        "        morp = morph.parse(word)[0] \n",
        "        syns = get_syn(morp.normal_form)\n",
        "    \n",
        "        morp = str(morp.tag)\n",
        "        morp = re.sub(' ', ',', morp)\n",
        "        morp = set(morp.split(','))\n",
        "    \n",
        "        for syn in syns:\n",
        "            w = morph.parse(syn)[0]\n",
        "            w = w.inflect(morp)\n",
        "                \n",
        "            if w and w.word != word:\n",
        "                new_words[w.word] = words[word]\n",
        "\n",
        "    return new_words"
      ],
      "execution_count": 0,
      "outputs": []
    },
    {
      "cell_type": "code",
      "metadata": {
        "id": "QTRfMgW53srs",
        "colab_type": "code",
        "outputId": "fdd3f01f-022c-4fda-87e3-351703faeadc",
        "colab": {
          "base_uri": "https://localhost:8080/",
          "height": 187
        }
      },
      "source": [
        "new_words = wordnet_syn_search(words)\n",
        "new_words"
      ],
      "execution_count": 0,
      "outputs": [
        {
          "output_type": "execute_result",
          "data": {
            "text/plain": [
              "{'возникла': ['библиотеки', 'году', 'в'],\n",
              " 'доступна': ['библиотека', 'году', 'в'],\n",
              " 'настала': ['библиотеки', 'году', 'в'],\n",
              " 'наступила': ['библиотеки', 'году', 'в'],\n",
              " 'образована': ['библиотека', 'году', 'в'],\n",
              " 'основана': ['библиотека', 'году', 'в'],\n",
              " 'появилась': ['библиотеки', 'году', 'в'],\n",
              " 'пришла': ['библиотеки', 'году', 'в'],\n",
              " 'разверста': ['библиотека', 'году', 'в'],\n",
              " 'учреждена': ['библиотека', 'году', 'в']}"
            ]
          },
          "metadata": {
            "tags": []
          },
          "execution_count": 47
        }
      ]
    },
    {
      "cell_type": "markdown",
      "metadata": {
        "id": "ko7H2KLh6SPC",
        "colab_type": "text"
      },
      "source": [
        "Уже лучше, можем взять 'возникла', 'доступна', 'образована', 'появилась'."
      ]
    },
    {
      "cell_type": "code",
      "metadata": {
        "id": "Ae5L-wAi6Rup",
        "colab_type": "code",
        "colab": {}
      },
      "source": [
        "new = ['возникла', 'доступна', 'образована', 'появилась']\n",
        "for i in new:\n",
        "  words[i] = new_words[i]"
      ],
      "execution_count": 0,
      "outputs": []
    },
    {
      "cell_type": "code",
      "metadata": {
        "id": "FGlXQvxKAuVO",
        "colab_type": "code",
        "colab": {}
      },
      "source": [
        "words['возникла'] = ['библиотека', 'году', 'в']\n",
        "words['появилась'] = ['библиотека', 'году', 'в']"
      ],
      "execution_count": 0,
      "outputs": []
    },
    {
      "cell_type": "code",
      "metadata": {
        "id": "AWTRORaXBmxN",
        "colab_type": "code",
        "outputId": "c8aaa301-49fd-41f5-8379-946a920aac37",
        "colab": {
          "base_uri": "https://localhost:8080/",
          "height": 221
        }
      },
      "source": [
        "words"
      ],
      "execution_count": 0,
      "outputs": [
        {
          "output_type": "execute_result",
          "data": {
            "text/plain": [
              "{'возникла': ['библиотека', 'году', 'в'],\n",
              " 'возобновилась': ['библиотеки', 'году', 'в'],\n",
              " 'доступна': ['библиотека', 'году', 'в'],\n",
              " 'началась': ['библиотеки', 'году', 'в'],\n",
              " 'образована': ['библиотека', 'году', 'в'],\n",
              " 'организована': ['библиотека', 'году', 'в'],\n",
              " 'основана': ['библиотека', 'году', 'в'],\n",
              " 'открылась': ['библиотека', 'года'],\n",
              " 'открыта': ['библиотека', 'году', 'в'],\n",
              " 'появилась': ['библиотека', 'году', 'в'],\n",
              " 'работает': ['библиотека', 'года', 'с'],\n",
              " 'учреждена': ['библиотека', 'году', 'в']}"
            ]
          },
          "metadata": {
            "tags": []
          },
          "execution_count": 58
        }
      ]
    },
    {
      "cell_type": "markdown",
      "metadata": {
        "id": "jpfDZr3c6lPk",
        "colab_type": "text"
      },
      "source": [
        "Теперь переходим к синтаксическому разбору."
      ]
    },
    {
      "cell_type": "markdown",
      "metadata": {
        "id": "1T7LLv4_BepW",
        "colab_type": "text"
      },
      "source": [
        "and token.text in words[token.head]"
      ]
    },
    {
      "cell_type": "code",
      "metadata": {
        "id": "MlktSrwX5Pze",
        "colab_type": "code",
        "outputId": "86d10c97-54ad-44c7-c7d0-589d0f82641f",
        "colab": {
          "base_uri": "https://localhost:8080/",
          "height": 221
        }
      },
      "source": [
        "text = 'В 1945 году в здании клуба была организована сельская библиотека'\n",
        "\n",
        "doc = nlp(text.lower())\n",
        "\n",
        "for token in doc:\n",
        "  print(token.text)\n",
        "  head = str(token.head)\n",
        "  txt = str(token.text)\n",
        "  print()\n",
        "  \n",
        "  if head in words and txt in words[head]:\n",
        "    \n",
        "    print(token.text, token.lemma_, token.pos_, token.dep_, token.head)"
      ],
      "execution_count": 0,
      "outputs": [
        {
          "output_type": "stream",
          "text": [
            "в\n",
            "1945\n",
            "году\n",
            "году год NOUN obl организована\n",
            "в\n",
            "здании\n",
            "клуба\n",
            "была\n",
            "организована\n",
            "сельская\n",
            "библиотека\n",
            "библиотека библиотека NOUN nsubj:pass организована\n"
          ],
          "name": "stdout"
        }
      ]
    },
    {
      "cell_type": "code",
      "metadata": {
        "id": "X75Yo1957unb",
        "colab_type": "code",
        "outputId": "e4549c31-e81f-4337-e3c7-8f1b5e0455f1",
        "colab": {
          "base_uri": "https://localhost:8080/",
          "height": 34
        }
      },
      "source": [
        "'организована' in words"
      ],
      "execution_count": 0,
      "outputs": [
        {
          "output_type": "execute_result",
          "data": {
            "text/plain": [
              "True"
            ]
          },
          "metadata": {
            "tags": []
          },
          "execution_count": 59
        }
      ]
    },
    {
      "cell_type": "code",
      "metadata": {
        "id": "nN6deDRbBqZT",
        "colab_type": "code",
        "colab": {}
      },
      "source": [
        ""
      ],
      "execution_count": 0,
      "outputs": []
    }
  ]
}